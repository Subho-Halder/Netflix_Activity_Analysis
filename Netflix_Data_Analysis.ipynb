{
  "nbformat": 4,
  "nbformat_minor": 0,
  "metadata": {
    "colab": {
      "provenance": []
    },
    "kernelspec": {
      "name": "python3",
      "display_name": "Python 3"
    },
    "language_info": {
      "name": "python"
    }
  },
  "cells": [
    {
      "cell_type": "code",
      "execution_count": null,
      "metadata": {
        "id": "5MjjZFGSWSim"
      },
      "outputs": [],
      "source": [
        "import pandas as pd\n",
        "#alternate Link for github\n",
        "df = pd.read_csv('/content/ViewingActivity.csv')"
      ]
    },
    {
      "cell_type": "code",
      "source": [
        "df.shape"
      ],
      "metadata": {
        "colab": {
          "base_uri": "https://localhost:8080/"
        },
        "id": "WYsNWwLyW0ev",
        "outputId": "6ac3dec8-72bd-4012-e8e1-3fe5a3357f12"
      },
      "execution_count": null,
      "outputs": [
        {
          "output_type": "execute_result",
          "data": {
            "text/plain": [
              "(13478, 10)"
            ]
          },
          "metadata": {},
          "execution_count": 57
        }
      ]
    },
    {
      "cell_type": "code",
      "source": [
        "df.head() "
      ],
      "metadata": {
        "colab": {
          "base_uri": "https://localhost:8080/",
          "height": 206
        },
        "id": "84RgZtjnW3vB",
        "outputId": "4e308b00-b9d9-419b-f982-d480e160c4b4"
      },
      "execution_count": null,
      "outputs": [
        {
          "output_type": "execute_result",
          "data": {
            "text/plain": [
              "  Profile Name           Start Time  Duration  \\\n",
              "0          Dev  2022-10-13 16:06:40  01:30:28   \n",
              "1          Dev  2022-10-13 16:03:38  00:00:10   \n",
              "2          Dev  2022-10-13 16:02:50  00:00:47   \n",
              "3          Dev  2022-10-13 16:01:31  00:00:14   \n",
              "4          Dev  2022-10-13 15:59:32  00:00:35   \n",
              "\n",
              "                        Attributes                                  Title  \\\n",
              "0                              NaN                            The Package   \n",
              "1  Autoplayed: user action: None;                   The Package (Trailer)   \n",
              "2                              NaN                            The Package   \n",
              "3  Autoplayed: user action: None;   Act 2 Conflict Clip: The Adam Project   \n",
              "4  Autoplayed: user action: None;                   The Package (Trailer)   \n",
              "\n",
              "  Supplemental Video Type          Device Type  Bookmark  Latest Bookmark  \\\n",
              "0                     NaN  Chrome PC (Cadmium)  01:27:48         01:27:48   \n",
              "1                 TRAILER  Chrome PC (Cadmium)  00:00:12         00:00:12   \n",
              "2                     NaN  Chrome PC (Cadmium)  00:00:47  Not latest view   \n",
              "3                    HOOK  Chrome PC (Cadmium)  00:00:14         00:00:14   \n",
              "4                 TRAILER  Chrome PC (Cadmium)  00:00:36  Not latest view   \n",
              "\n",
              "      Country  \n",
              "0  IN (India)  \n",
              "1  IN (India)  \n",
              "2  IN (India)  \n",
              "3  IN (India)  \n",
              "4  IN (India)  "
            ],
            "text/html": [
              "\n",
              "  <div id=\"df-44392862-7414-4a58-bac8-e24a04820c27\">\n",
              "    <div class=\"colab-df-container\">\n",
              "      <div>\n",
              "<style scoped>\n",
              "    .dataframe tbody tr th:only-of-type {\n",
              "        vertical-align: middle;\n",
              "    }\n",
              "\n",
              "    .dataframe tbody tr th {\n",
              "        vertical-align: top;\n",
              "    }\n",
              "\n",
              "    .dataframe thead th {\n",
              "        text-align: right;\n",
              "    }\n",
              "</style>\n",
              "<table border=\"1\" class=\"dataframe\">\n",
              "  <thead>\n",
              "    <tr style=\"text-align: right;\">\n",
              "      <th></th>\n",
              "      <th>Profile Name</th>\n",
              "      <th>Start Time</th>\n",
              "      <th>Duration</th>\n",
              "      <th>Attributes</th>\n",
              "      <th>Title</th>\n",
              "      <th>Supplemental Video Type</th>\n",
              "      <th>Device Type</th>\n",
              "      <th>Bookmark</th>\n",
              "      <th>Latest Bookmark</th>\n",
              "      <th>Country</th>\n",
              "    </tr>\n",
              "  </thead>\n",
              "  <tbody>\n",
              "    <tr>\n",
              "      <th>0</th>\n",
              "      <td>Dev</td>\n",
              "      <td>2022-10-13 16:06:40</td>\n",
              "      <td>01:30:28</td>\n",
              "      <td>NaN</td>\n",
              "      <td>The Package</td>\n",
              "      <td>NaN</td>\n",
              "      <td>Chrome PC (Cadmium)</td>\n",
              "      <td>01:27:48</td>\n",
              "      <td>01:27:48</td>\n",
              "      <td>IN (India)</td>\n",
              "    </tr>\n",
              "    <tr>\n",
              "      <th>1</th>\n",
              "      <td>Dev</td>\n",
              "      <td>2022-10-13 16:03:38</td>\n",
              "      <td>00:00:10</td>\n",
              "      <td>Autoplayed: user action: None;</td>\n",
              "      <td>The Package (Trailer)</td>\n",
              "      <td>TRAILER</td>\n",
              "      <td>Chrome PC (Cadmium)</td>\n",
              "      <td>00:00:12</td>\n",
              "      <td>00:00:12</td>\n",
              "      <td>IN (India)</td>\n",
              "    </tr>\n",
              "    <tr>\n",
              "      <th>2</th>\n",
              "      <td>Dev</td>\n",
              "      <td>2022-10-13 16:02:50</td>\n",
              "      <td>00:00:47</td>\n",
              "      <td>NaN</td>\n",
              "      <td>The Package</td>\n",
              "      <td>NaN</td>\n",
              "      <td>Chrome PC (Cadmium)</td>\n",
              "      <td>00:00:47</td>\n",
              "      <td>Not latest view</td>\n",
              "      <td>IN (India)</td>\n",
              "    </tr>\n",
              "    <tr>\n",
              "      <th>3</th>\n",
              "      <td>Dev</td>\n",
              "      <td>2022-10-13 16:01:31</td>\n",
              "      <td>00:00:14</td>\n",
              "      <td>Autoplayed: user action: None;</td>\n",
              "      <td>Act 2 Conflict Clip: The Adam Project</td>\n",
              "      <td>HOOK</td>\n",
              "      <td>Chrome PC (Cadmium)</td>\n",
              "      <td>00:00:14</td>\n",
              "      <td>00:00:14</td>\n",
              "      <td>IN (India)</td>\n",
              "    </tr>\n",
              "    <tr>\n",
              "      <th>4</th>\n",
              "      <td>Dev</td>\n",
              "      <td>2022-10-13 15:59:32</td>\n",
              "      <td>00:00:35</td>\n",
              "      <td>Autoplayed: user action: None;</td>\n",
              "      <td>The Package (Trailer)</td>\n",
              "      <td>TRAILER</td>\n",
              "      <td>Chrome PC (Cadmium)</td>\n",
              "      <td>00:00:36</td>\n",
              "      <td>Not latest view</td>\n",
              "      <td>IN (India)</td>\n",
              "    </tr>\n",
              "  </tbody>\n",
              "</table>\n",
              "</div>\n",
              "      <button class=\"colab-df-convert\" onclick=\"convertToInteractive('df-44392862-7414-4a58-bac8-e24a04820c27')\"\n",
              "              title=\"Convert this dataframe to an interactive table.\"\n",
              "              style=\"display:none;\">\n",
              "        \n",
              "  <svg xmlns=\"http://www.w3.org/2000/svg\" height=\"24px\"viewBox=\"0 0 24 24\"\n",
              "       width=\"24px\">\n",
              "    <path d=\"M0 0h24v24H0V0z\" fill=\"none\"/>\n",
              "    <path d=\"M18.56 5.44l.94 2.06.94-2.06 2.06-.94-2.06-.94-.94-2.06-.94 2.06-2.06.94zm-11 1L8.5 8.5l.94-2.06 2.06-.94-2.06-.94L8.5 2.5l-.94 2.06-2.06.94zm10 10l.94 2.06.94-2.06 2.06-.94-2.06-.94-.94-2.06-.94 2.06-2.06.94z\"/><path d=\"M17.41 7.96l-1.37-1.37c-.4-.4-.92-.59-1.43-.59-.52 0-1.04.2-1.43.59L10.3 9.45l-7.72 7.72c-.78.78-.78 2.05 0 2.83L4 21.41c.39.39.9.59 1.41.59.51 0 1.02-.2 1.41-.59l7.78-7.78 2.81-2.81c.8-.78.8-2.07 0-2.86zM5.41 20L4 18.59l7.72-7.72 1.47 1.35L5.41 20z\"/>\n",
              "  </svg>\n",
              "      </button>\n",
              "      \n",
              "  <style>\n",
              "    .colab-df-container {\n",
              "      display:flex;\n",
              "      flex-wrap:wrap;\n",
              "      gap: 12px;\n",
              "    }\n",
              "\n",
              "    .colab-df-convert {\n",
              "      background-color: #E8F0FE;\n",
              "      border: none;\n",
              "      border-radius: 50%;\n",
              "      cursor: pointer;\n",
              "      display: none;\n",
              "      fill: #1967D2;\n",
              "      height: 32px;\n",
              "      padding: 0 0 0 0;\n",
              "      width: 32px;\n",
              "    }\n",
              "\n",
              "    .colab-df-convert:hover {\n",
              "      background-color: #E2EBFA;\n",
              "      box-shadow: 0px 1px 2px rgba(60, 64, 67, 0.3), 0px 1px 3px 1px rgba(60, 64, 67, 0.15);\n",
              "      fill: #174EA6;\n",
              "    }\n",
              "\n",
              "    [theme=dark] .colab-df-convert {\n",
              "      background-color: #3B4455;\n",
              "      fill: #D2E3FC;\n",
              "    }\n",
              "\n",
              "    [theme=dark] .colab-df-convert:hover {\n",
              "      background-color: #434B5C;\n",
              "      box-shadow: 0px 1px 3px 1px rgba(0, 0, 0, 0.15);\n",
              "      filter: drop-shadow(0px 1px 2px rgba(0, 0, 0, 0.3));\n",
              "      fill: #FFFFFF;\n",
              "    }\n",
              "  </style>\n",
              "\n",
              "      <script>\n",
              "        const buttonEl =\n",
              "          document.querySelector('#df-44392862-7414-4a58-bac8-e24a04820c27 button.colab-df-convert');\n",
              "        buttonEl.style.display =\n",
              "          google.colab.kernel.accessAllowed ? 'block' : 'none';\n",
              "\n",
              "        async function convertToInteractive(key) {\n",
              "          const element = document.querySelector('#df-44392862-7414-4a58-bac8-e24a04820c27');\n",
              "          const dataTable =\n",
              "            await google.colab.kernel.invokeFunction('convertToInteractive',\n",
              "                                                     [key], {});\n",
              "          if (!dataTable) return;\n",
              "\n",
              "          const docLinkHtml = 'Like what you see? Visit the ' +\n",
              "            '<a target=\"_blank\" href=https://colab.research.google.com/notebooks/data_table.ipynb>data table notebook</a>'\n",
              "            + ' to learn more about interactive tables.';\n",
              "          element.innerHTML = '';\n",
              "          dataTable['output_type'] = 'display_data';\n",
              "          await google.colab.output.renderOutput(dataTable, element);\n",
              "          const docLink = document.createElement('div');\n",
              "          docLink.innerHTML = docLinkHtml;\n",
              "          element.appendChild(docLink);\n",
              "        }\n",
              "      </script>\n",
              "    </div>\n",
              "  </div>\n",
              "  "
            ]
          },
          "metadata": {},
          "execution_count": 58
        }
      ]
    },
    {
      "cell_type": "code",
      "source": [
        "df.sample(n=10)"
      ],
      "metadata": {
        "colab": {
          "base_uri": "https://localhost:8080/",
          "height": 598
        },
        "id": "tesMsbh1W7tS",
        "outputId": "01ab5f34-afef-437a-92ae-6402ede8c6e4"
      },
      "execution_count": null,
      "outputs": [
        {
          "output_type": "execute_result",
          "data": {
            "text/plain": [
              "      Profile Name           Start Time  Duration Attributes  \\\n",
              "6631         Subho  2022-01-23 13:02:28  00:47:11        NaN   \n",
              "6196         Subho  2022-06-08 06:31:02  00:28:38        NaN   \n",
              "10723        panda  2022-03-05 18:54:17  00:20:05        NaN   \n",
              "8148         Subho  2020-10-20 17:04:12  00:05:25        NaN   \n",
              "8014         Subho  2021-01-30 21:33:59  00:24:10        NaN   \n",
              "5112         Dolly  2020-05-22 12:31:47  00:00:02        NaN   \n",
              "6327         Subho  2022-05-13 18:33:34  00:00:26        NaN   \n",
              "6328         Subho  2022-05-13 18:32:15  00:01:00        NaN   \n",
              "4521         Dolly  2020-10-13 17:59:37  00:08:50        NaN   \n",
              "6601         Subho  2022-02-04 17:26:22  00:01:04        NaN   \n",
              "\n",
              "                                                   Title  \\\n",
              "6631                   Spider-Man: Into the Spider-Verse   \n",
              "6196                                         Interceptor   \n",
              "10723                     Kapil Sharma: I'm Not Done Yet   \n",
              "8148                                        Chup Chup Ke   \n",
              "8014   Fate: The Winx Saga: Season 1: Wither Into the...   \n",
              "5112          Ozark: Season 2: The Big Sleep (Episode 8)   \n",
              "6327   The Office (U.S.): Season 5: Dream Team (Episo...   \n",
              "6328   The Office (U.S.): Season 5: Two Weeks (Episod...   \n",
              "4521   The Haunting of Bly Manor: Season 1: The Two F...   \n",
              "6601   Dark Desire: Season 1: We've Messed Up So Much...   \n",
              "\n",
              "      Supplemental Video Type                                   Device Type  \\\n",
              "6631                      NaN                   DefaultWidevineAndroidPhone   \n",
              "6196                      NaN                   DefaultWidevineAndroidPhone   \n",
              "10723                     NaN                         Xiaomi dangal SmartTV   \n",
              "8148                      NaN                   DefaultWidevineAndroidPhone   \n",
              "8014                      NaN                         Xiaomi dangal SmartTV   \n",
              "5112                      NaN  Android DefaultWidevineL3Phone Android Phone   \n",
              "6327                      NaN           Netflix Chrome MAC (Cadmium) HTML 5   \n",
              "6328                      NaN           Netflix Chrome MAC (Cadmium) HTML 5   \n",
              "4521                      NaN                   DefaultWidevineAndroidPhone   \n",
              "6601                      NaN                         Xiaomi dangal SmartTV   \n",
              "\n",
              "       Bookmark  Latest Bookmark     Country  \n",
              "6631   00:52:53  Not latest view  IN (India)  \n",
              "6196   01:30:44  Not latest view  IN (India)  \n",
              "10723  00:23:40         00:23:40  IN (India)  \n",
              "8148   01:40:45  Not latest view  IN (India)  \n",
              "8014   00:24:15  Not latest view  IN (India)  \n",
              "5112   00:00:01         00:00:01  IN (India)  \n",
              "6327   00:06:53         00:06:53  IN (India)  \n",
              "6328   00:21:11  Not latest view  IN (India)  \n",
              "4521   00:09:51  Not latest view  IN (India)  \n",
              "6601   00:31:47         00:31:47  IN (India)  "
            ],
            "text/html": [
              "\n",
              "  <div id=\"df-9b715f5d-33d5-4855-a31e-cc8c1dc6c1e0\">\n",
              "    <div class=\"colab-df-container\">\n",
              "      <div>\n",
              "<style scoped>\n",
              "    .dataframe tbody tr th:only-of-type {\n",
              "        vertical-align: middle;\n",
              "    }\n",
              "\n",
              "    .dataframe tbody tr th {\n",
              "        vertical-align: top;\n",
              "    }\n",
              "\n",
              "    .dataframe thead th {\n",
              "        text-align: right;\n",
              "    }\n",
              "</style>\n",
              "<table border=\"1\" class=\"dataframe\">\n",
              "  <thead>\n",
              "    <tr style=\"text-align: right;\">\n",
              "      <th></th>\n",
              "      <th>Profile Name</th>\n",
              "      <th>Start Time</th>\n",
              "      <th>Duration</th>\n",
              "      <th>Attributes</th>\n",
              "      <th>Title</th>\n",
              "      <th>Supplemental Video Type</th>\n",
              "      <th>Device Type</th>\n",
              "      <th>Bookmark</th>\n",
              "      <th>Latest Bookmark</th>\n",
              "      <th>Country</th>\n",
              "    </tr>\n",
              "  </thead>\n",
              "  <tbody>\n",
              "    <tr>\n",
              "      <th>6631</th>\n",
              "      <td>Subho</td>\n",
              "      <td>2022-01-23 13:02:28</td>\n",
              "      <td>00:47:11</td>\n",
              "      <td>NaN</td>\n",
              "      <td>Spider-Man: Into the Spider-Verse</td>\n",
              "      <td>NaN</td>\n",
              "      <td>DefaultWidevineAndroidPhone</td>\n",
              "      <td>00:52:53</td>\n",
              "      <td>Not latest view</td>\n",
              "      <td>IN (India)</td>\n",
              "    </tr>\n",
              "    <tr>\n",
              "      <th>6196</th>\n",
              "      <td>Subho</td>\n",
              "      <td>2022-06-08 06:31:02</td>\n",
              "      <td>00:28:38</td>\n",
              "      <td>NaN</td>\n",
              "      <td>Interceptor</td>\n",
              "      <td>NaN</td>\n",
              "      <td>DefaultWidevineAndroidPhone</td>\n",
              "      <td>01:30:44</td>\n",
              "      <td>Not latest view</td>\n",
              "      <td>IN (India)</td>\n",
              "    </tr>\n",
              "    <tr>\n",
              "      <th>10723</th>\n",
              "      <td>panda</td>\n",
              "      <td>2022-03-05 18:54:17</td>\n",
              "      <td>00:20:05</td>\n",
              "      <td>NaN</td>\n",
              "      <td>Kapil Sharma: I'm Not Done Yet</td>\n",
              "      <td>NaN</td>\n",
              "      <td>Xiaomi dangal SmartTV</td>\n",
              "      <td>00:23:40</td>\n",
              "      <td>00:23:40</td>\n",
              "      <td>IN (India)</td>\n",
              "    </tr>\n",
              "    <tr>\n",
              "      <th>8148</th>\n",
              "      <td>Subho</td>\n",
              "      <td>2020-10-20 17:04:12</td>\n",
              "      <td>00:05:25</td>\n",
              "      <td>NaN</td>\n",
              "      <td>Chup Chup Ke</td>\n",
              "      <td>NaN</td>\n",
              "      <td>DefaultWidevineAndroidPhone</td>\n",
              "      <td>01:40:45</td>\n",
              "      <td>Not latest view</td>\n",
              "      <td>IN (India)</td>\n",
              "    </tr>\n",
              "    <tr>\n",
              "      <th>8014</th>\n",
              "      <td>Subho</td>\n",
              "      <td>2021-01-30 21:33:59</td>\n",
              "      <td>00:24:10</td>\n",
              "      <td>NaN</td>\n",
              "      <td>Fate: The Winx Saga: Season 1: Wither Into the...</td>\n",
              "      <td>NaN</td>\n",
              "      <td>Xiaomi dangal SmartTV</td>\n",
              "      <td>00:24:15</td>\n",
              "      <td>Not latest view</td>\n",
              "      <td>IN (India)</td>\n",
              "    </tr>\n",
              "    <tr>\n",
              "      <th>5112</th>\n",
              "      <td>Dolly</td>\n",
              "      <td>2020-05-22 12:31:47</td>\n",
              "      <td>00:00:02</td>\n",
              "      <td>NaN</td>\n",
              "      <td>Ozark: Season 2: The Big Sleep (Episode 8)</td>\n",
              "      <td>NaN</td>\n",
              "      <td>Android DefaultWidevineL3Phone Android Phone</td>\n",
              "      <td>00:00:01</td>\n",
              "      <td>00:00:01</td>\n",
              "      <td>IN (India)</td>\n",
              "    </tr>\n",
              "    <tr>\n",
              "      <th>6327</th>\n",
              "      <td>Subho</td>\n",
              "      <td>2022-05-13 18:33:34</td>\n",
              "      <td>00:00:26</td>\n",
              "      <td>NaN</td>\n",
              "      <td>The Office (U.S.): Season 5: Dream Team (Episo...</td>\n",
              "      <td>NaN</td>\n",
              "      <td>Netflix Chrome MAC (Cadmium) HTML 5</td>\n",
              "      <td>00:06:53</td>\n",
              "      <td>00:06:53</td>\n",
              "      <td>IN (India)</td>\n",
              "    </tr>\n",
              "    <tr>\n",
              "      <th>6328</th>\n",
              "      <td>Subho</td>\n",
              "      <td>2022-05-13 18:32:15</td>\n",
              "      <td>00:01:00</td>\n",
              "      <td>NaN</td>\n",
              "      <td>The Office (U.S.): Season 5: Two Weeks (Episod...</td>\n",
              "      <td>NaN</td>\n",
              "      <td>Netflix Chrome MAC (Cadmium) HTML 5</td>\n",
              "      <td>00:21:11</td>\n",
              "      <td>Not latest view</td>\n",
              "      <td>IN (India)</td>\n",
              "    </tr>\n",
              "    <tr>\n",
              "      <th>4521</th>\n",
              "      <td>Dolly</td>\n",
              "      <td>2020-10-13 17:59:37</td>\n",
              "      <td>00:08:50</td>\n",
              "      <td>NaN</td>\n",
              "      <td>The Haunting of Bly Manor: Season 1: The Two F...</td>\n",
              "      <td>NaN</td>\n",
              "      <td>DefaultWidevineAndroidPhone</td>\n",
              "      <td>00:09:51</td>\n",
              "      <td>Not latest view</td>\n",
              "      <td>IN (India)</td>\n",
              "    </tr>\n",
              "    <tr>\n",
              "      <th>6601</th>\n",
              "      <td>Subho</td>\n",
              "      <td>2022-02-04 17:26:22</td>\n",
              "      <td>00:01:04</td>\n",
              "      <td>NaN</td>\n",
              "      <td>Dark Desire: Season 1: We've Messed Up So Much...</td>\n",
              "      <td>NaN</td>\n",
              "      <td>Xiaomi dangal SmartTV</td>\n",
              "      <td>00:31:47</td>\n",
              "      <td>00:31:47</td>\n",
              "      <td>IN (India)</td>\n",
              "    </tr>\n",
              "  </tbody>\n",
              "</table>\n",
              "</div>\n",
              "      <button class=\"colab-df-convert\" onclick=\"convertToInteractive('df-9b715f5d-33d5-4855-a31e-cc8c1dc6c1e0')\"\n",
              "              title=\"Convert this dataframe to an interactive table.\"\n",
              "              style=\"display:none;\">\n",
              "        \n",
              "  <svg xmlns=\"http://www.w3.org/2000/svg\" height=\"24px\"viewBox=\"0 0 24 24\"\n",
              "       width=\"24px\">\n",
              "    <path d=\"M0 0h24v24H0V0z\" fill=\"none\"/>\n",
              "    <path d=\"M18.56 5.44l.94 2.06.94-2.06 2.06-.94-2.06-.94-.94-2.06-.94 2.06-2.06.94zm-11 1L8.5 8.5l.94-2.06 2.06-.94-2.06-.94L8.5 2.5l-.94 2.06-2.06.94zm10 10l.94 2.06.94-2.06 2.06-.94-2.06-.94-.94-2.06-.94 2.06-2.06.94z\"/><path d=\"M17.41 7.96l-1.37-1.37c-.4-.4-.92-.59-1.43-.59-.52 0-1.04.2-1.43.59L10.3 9.45l-7.72 7.72c-.78.78-.78 2.05 0 2.83L4 21.41c.39.39.9.59 1.41.59.51 0 1.02-.2 1.41-.59l7.78-7.78 2.81-2.81c.8-.78.8-2.07 0-2.86zM5.41 20L4 18.59l7.72-7.72 1.47 1.35L5.41 20z\"/>\n",
              "  </svg>\n",
              "      </button>\n",
              "      \n",
              "  <style>\n",
              "    .colab-df-container {\n",
              "      display:flex;\n",
              "      flex-wrap:wrap;\n",
              "      gap: 12px;\n",
              "    }\n",
              "\n",
              "    .colab-df-convert {\n",
              "      background-color: #E8F0FE;\n",
              "      border: none;\n",
              "      border-radius: 50%;\n",
              "      cursor: pointer;\n",
              "      display: none;\n",
              "      fill: #1967D2;\n",
              "      height: 32px;\n",
              "      padding: 0 0 0 0;\n",
              "      width: 32px;\n",
              "    }\n",
              "\n",
              "    .colab-df-convert:hover {\n",
              "      background-color: #E2EBFA;\n",
              "      box-shadow: 0px 1px 2px rgba(60, 64, 67, 0.3), 0px 1px 3px 1px rgba(60, 64, 67, 0.15);\n",
              "      fill: #174EA6;\n",
              "    }\n",
              "\n",
              "    [theme=dark] .colab-df-convert {\n",
              "      background-color: #3B4455;\n",
              "      fill: #D2E3FC;\n",
              "    }\n",
              "\n",
              "    [theme=dark] .colab-df-convert:hover {\n",
              "      background-color: #434B5C;\n",
              "      box-shadow: 0px 1px 3px 1px rgba(0, 0, 0, 0.15);\n",
              "      filter: drop-shadow(0px 1px 2px rgba(0, 0, 0, 0.3));\n",
              "      fill: #FFFFFF;\n",
              "    }\n",
              "  </style>\n",
              "\n",
              "      <script>\n",
              "        const buttonEl =\n",
              "          document.querySelector('#df-9b715f5d-33d5-4855-a31e-cc8c1dc6c1e0 button.colab-df-convert');\n",
              "        buttonEl.style.display =\n",
              "          google.colab.kernel.accessAllowed ? 'block' : 'none';\n",
              "\n",
              "        async function convertToInteractive(key) {\n",
              "          const element = document.querySelector('#df-9b715f5d-33d5-4855-a31e-cc8c1dc6c1e0');\n",
              "          const dataTable =\n",
              "            await google.colab.kernel.invokeFunction('convertToInteractive',\n",
              "                                                     [key], {});\n",
              "          if (!dataTable) return;\n",
              "\n",
              "          const docLinkHtml = 'Like what you see? Visit the ' +\n",
              "            '<a target=\"_blank\" href=https://colab.research.google.com/notebooks/data_table.ipynb>data table notebook</a>'\n",
              "            + ' to learn more about interactive tables.';\n",
              "          element.innerHTML = '';\n",
              "          dataTable['output_type'] = 'display_data';\n",
              "          await google.colab.output.renderOutput(dataTable, element);\n",
              "          const docLink = document.createElement('div');\n",
              "          docLink.innerHTML = docLinkHtml;\n",
              "          element.appendChild(docLink);\n",
              "        }\n",
              "      </script>\n",
              "    </div>\n",
              "  </div>\n",
              "  "
            ]
          },
          "metadata": {},
          "execution_count": 59
        }
      ]
    },
    {
      "cell_type": "code",
      "source": [
        "df[\"Profile Name\"].unique()"
      ],
      "metadata": {
        "colab": {
          "base_uri": "https://localhost:8080/"
        },
        "id": "f4VuYLEFW74J",
        "outputId": "9b39f3c7-e620-4aa6-b2c5-e9262ae49900"
      },
      "execution_count": null,
      "outputs": [
        {
          "output_type": "execute_result",
          "data": {
            "text/plain": [
              "array(['Dev', 'Dolly', 'Kids', 'Subho', 'panda'], dtype=object)"
            ]
          },
          "metadata": {},
          "execution_count": 60
        }
      ]
    },
    {
      "cell_type": "code",
      "source": [
        "df[\"Device Type\"].unique()"
      ],
      "metadata": {
        "colab": {
          "base_uri": "https://localhost:8080/"
        },
        "id": "zQRphulaXI85",
        "outputId": "6a28dba3-445f-4687-cd56-bd525319268d"
      },
      "execution_count": null,
      "outputs": [
        {
          "output_type": "execute_result",
          "data": {
            "text/plain": [
              "array(['Chrome PC (Cadmium)', 'DefaultWidevineAndroidPhone',\n",
              "       'Android DefaultWidevineL3Tablet Android Tablet',\n",
              "       'Xiaomi dangal SmartTV',\n",
              "       'Netflix Windows App - Cadmium Windows Mobile',\n",
              "       'Apple iPad 6th Gen 9.7 (Wi-Fi) iPad',\n",
              "       'Android DefaultWidevineL3Phone Android Phone',\n",
              "       'Edge OSS - Windows (Cadmium)',\n",
              "       'Netflix Chrome MAC (Cadmium) HTML 5',\n",
              "       'Hisense MSD6486 on FHD platform Smart TV', 'Safari MAC (Cadmium)',\n",
              "       'Panasonic 2018 TANBA11 TV Smart TV', 'Mobile'], dtype=object)"
            ]
          },
          "metadata": {},
          "execution_count": 61
        }
      ]
    },
    {
      "cell_type": "markdown",
      "source": [
        "Which Profile watched the most (time)?\n",
        "\n",
        "Which Profile has the most watching activities/interactions?\n",
        "\n",
        "What is the average watching time (per Profile)?\n",
        "\n",
        "What devices are used by which Profile? And which device is used the most?"
      ],
      "metadata": {
        "id": "-GCQz_TwXScc"
      }
    },
    {
      "cell_type": "code",
      "source": [
        "df.dtypes"
      ],
      "metadata": {
        "colab": {
          "base_uri": "https://localhost:8080/"
        },
        "id": "a3u53Zy3XONl",
        "outputId": "b60233a6-135f-4a35-a423-9f658eaa2cbb"
      },
      "execution_count": null,
      "outputs": [
        {
          "output_type": "execute_result",
          "data": {
            "text/plain": [
              "Profile Name               object\n",
              "Start Time                 object\n",
              "Duration                   object\n",
              "Attributes                 object\n",
              "Title                      object\n",
              "Supplemental Video Type    object\n",
              "Device Type                object\n",
              "Bookmark                   object\n",
              "Latest Bookmark            object\n",
              "Country                    object\n",
              "dtype: object"
            ]
          },
          "metadata": {},
          "execution_count": 62
        }
      ]
    },
    {
      "cell_type": "code",
      "source": [
        "df['Start Time'] = pd.to_datetime(df['Start Time'], utc=True).map(lambda x: x.tz_convert('Asia/Kolkata'))\n",
        "df['Duration'] = pd.to_timedelta(df['Duration'])\n",
        "df.dtypes"
      ],
      "metadata": {
        "colab": {
          "base_uri": "https://localhost:8080/"
        },
        "id": "63ekbYVZXcjj",
        "outputId": "362341a8-6597-4ec4-98b9-4ce21918b639"
      },
      "execution_count": null,
      "outputs": [
        {
          "output_type": "execute_result",
          "data": {
            "text/plain": [
              "Profile Name                                     object\n",
              "Start Time                 datetime64[ns, Asia/Kolkata]\n",
              "Duration                                timedelta64[ns]\n",
              "Attributes                                       object\n",
              "Title                                            object\n",
              "Supplemental Video Type                          object\n",
              "Device Type                                      object\n",
              "Bookmark                                         object\n",
              "Latest Bookmark                                  object\n",
              "Country                                          object\n",
              "dtype: object"
            ]
          },
          "metadata": {},
          "execution_count": 63
        }
      ]
    },
    {
      "cell_type": "code",
      "source": [
        "df.sample(n=10)"
      ],
      "metadata": {
        "colab": {
          "base_uri": "https://localhost:8080/",
          "height": 598
        },
        "id": "3czu7QyfXcpB",
        "outputId": "23d6f89a-7aea-4901-ce31-06c3f56c87a1"
      },
      "execution_count": null,
      "outputs": [
        {
          "output_type": "execute_result",
          "data": {
            "text/plain": [
              "      Profile Name                Start Time        Duration  \\\n",
              "8975         Subho 2020-04-30 10:15:30+05:30 0 days 00:20:32   \n",
              "10446        panda 2022-04-15 21:53:22+05:30 0 days 00:00:01   \n",
              "13369        panda 2020-02-29 00:41:31+05:30 0 days 00:35:01   \n",
              "10695        panda 2022-03-09 22:32:09+05:30 0 days 00:00:09   \n",
              "9614         panda 2022-10-01 01:03:23+05:30 0 days 01:32:51   \n",
              "5740         Subho 2022-08-06 23:57:04+05:30 0 days 00:42:17   \n",
              "5379         Dolly 2020-02-17 22:13:28+05:30 0 days 00:51:07   \n",
              "7732         Subho 2021-06-17 18:50:09+05:30 0 days 00:01:18   \n",
              "1329           Dev 2020-06-29 00:19:17+05:30 0 days 00:00:41   \n",
              "2460         Dolly 2021-11-29 15:30:35+05:30 0 days 01:24:10   \n",
              "\n",
              "                            Attributes  \\\n",
              "8975                               NaN   \n",
              "10446  Autoplayed: user action: None;    \n",
              "13369                              NaN   \n",
              "10695                              NaN   \n",
              "9614                               NaN   \n",
              "5740                               NaN   \n",
              "5379                               NaN   \n",
              "7732                               NaN   \n",
              "1329                               NaN   \n",
              "2460                               NaN   \n",
              "\n",
              "                                                   Title  \\\n",
              "8975   Money Heist: Part 3: Boom, Boom, Ciao (Episode 5)   \n",
              "10446                                    Game Over, Man!   \n",
              "13369  Jane The Virgin: Season 1: Chapter Eight (Epis...   \n",
              "10695                                   My Birthday Song   \n",
              "9614                                            The Mist   \n",
              "5740   The Sandman: Season 1: Dream a Little Dream of...   \n",
              "5379   Chilling Adventures of Sabrina: Part 2: Chapte...   \n",
              "7732   F is for Family: Season 3: Mr. Murphy's Wild R...   \n",
              "1329                 Dark: Season 1: Secrets (Episode 1)   \n",
              "2460                                             Dhamaka   \n",
              "\n",
              "      Supplemental Video Type                                     Device Type  \\\n",
              "8975                      NaN    Android DefaultWidevineL3Phone Android Phone   \n",
              "10446                     NaN                           Xiaomi dangal SmartTV   \n",
              "13369                     NaN             Apple iPad 6th Gen 9.7 (Wi-Fi) iPad   \n",
              "10695                     NaN             Apple iPad 6th Gen 9.7 (Wi-Fi) iPad   \n",
              "9614                      NaN                           Xiaomi dangal SmartTV   \n",
              "5740                      NaN                           Xiaomi dangal SmartTV   \n",
              "5379                      NaN    Android DefaultWidevineL3Phone Android Phone   \n",
              "7732                      NaN                             Chrome PC (Cadmium)   \n",
              "1329                      NaN  Android DefaultWidevineL3Tablet Android Tablet   \n",
              "2460                      NaN    Android DefaultWidevineL3Phone Android Phone   \n",
              "\n",
              "       Bookmark  Latest Bookmark     Country  \n",
              "8975   00:47:31         00:47:31  IN (India)  \n",
              "10446  00:00:01  Not latest view  IN (India)  \n",
              "13369  00:41:52  Not latest view  IN (India)  \n",
              "10695  00:04:43         00:04:43  IN (India)  \n",
              "9614   01:57:28         01:57:28  IN (India)  \n",
              "5740   00:42:11         00:42:11  IN (India)  \n",
              "5379   00:52:22         00:52:22  IN (India)  \n",
              "7732   00:27:05         00:27:05  IN (India)  \n",
              "1329   00:01:07  Not latest view  IN (India)  \n",
              "2460   01:34:16         01:34:16  IN (India)  "
            ],
            "text/html": [
              "\n",
              "  <div id=\"df-7b75f313-4786-41b6-9cd7-c448532fcce9\">\n",
              "    <div class=\"colab-df-container\">\n",
              "      <div>\n",
              "<style scoped>\n",
              "    .dataframe tbody tr th:only-of-type {\n",
              "        vertical-align: middle;\n",
              "    }\n",
              "\n",
              "    .dataframe tbody tr th {\n",
              "        vertical-align: top;\n",
              "    }\n",
              "\n",
              "    .dataframe thead th {\n",
              "        text-align: right;\n",
              "    }\n",
              "</style>\n",
              "<table border=\"1\" class=\"dataframe\">\n",
              "  <thead>\n",
              "    <tr style=\"text-align: right;\">\n",
              "      <th></th>\n",
              "      <th>Profile Name</th>\n",
              "      <th>Start Time</th>\n",
              "      <th>Duration</th>\n",
              "      <th>Attributes</th>\n",
              "      <th>Title</th>\n",
              "      <th>Supplemental Video Type</th>\n",
              "      <th>Device Type</th>\n",
              "      <th>Bookmark</th>\n",
              "      <th>Latest Bookmark</th>\n",
              "      <th>Country</th>\n",
              "    </tr>\n",
              "  </thead>\n",
              "  <tbody>\n",
              "    <tr>\n",
              "      <th>8975</th>\n",
              "      <td>Subho</td>\n",
              "      <td>2020-04-30 10:15:30+05:30</td>\n",
              "      <td>0 days 00:20:32</td>\n",
              "      <td>NaN</td>\n",
              "      <td>Money Heist: Part 3: Boom, Boom, Ciao (Episode 5)</td>\n",
              "      <td>NaN</td>\n",
              "      <td>Android DefaultWidevineL3Phone Android Phone</td>\n",
              "      <td>00:47:31</td>\n",
              "      <td>00:47:31</td>\n",
              "      <td>IN (India)</td>\n",
              "    </tr>\n",
              "    <tr>\n",
              "      <th>10446</th>\n",
              "      <td>panda</td>\n",
              "      <td>2022-04-15 21:53:22+05:30</td>\n",
              "      <td>0 days 00:00:01</td>\n",
              "      <td>Autoplayed: user action: None;</td>\n",
              "      <td>Game Over, Man!</td>\n",
              "      <td>NaN</td>\n",
              "      <td>Xiaomi dangal SmartTV</td>\n",
              "      <td>00:00:01</td>\n",
              "      <td>Not latest view</td>\n",
              "      <td>IN (India)</td>\n",
              "    </tr>\n",
              "    <tr>\n",
              "      <th>13369</th>\n",
              "      <td>panda</td>\n",
              "      <td>2020-02-29 00:41:31+05:30</td>\n",
              "      <td>0 days 00:35:01</td>\n",
              "      <td>NaN</td>\n",
              "      <td>Jane The Virgin: Season 1: Chapter Eight (Epis...</td>\n",
              "      <td>NaN</td>\n",
              "      <td>Apple iPad 6th Gen 9.7 (Wi-Fi) iPad</td>\n",
              "      <td>00:41:52</td>\n",
              "      <td>Not latest view</td>\n",
              "      <td>IN (India)</td>\n",
              "    </tr>\n",
              "    <tr>\n",
              "      <th>10695</th>\n",
              "      <td>panda</td>\n",
              "      <td>2022-03-09 22:32:09+05:30</td>\n",
              "      <td>0 days 00:00:09</td>\n",
              "      <td>NaN</td>\n",
              "      <td>My Birthday Song</td>\n",
              "      <td>NaN</td>\n",
              "      <td>Apple iPad 6th Gen 9.7 (Wi-Fi) iPad</td>\n",
              "      <td>00:04:43</td>\n",
              "      <td>00:04:43</td>\n",
              "      <td>IN (India)</td>\n",
              "    </tr>\n",
              "    <tr>\n",
              "      <th>9614</th>\n",
              "      <td>panda</td>\n",
              "      <td>2022-10-01 01:03:23+05:30</td>\n",
              "      <td>0 days 01:32:51</td>\n",
              "      <td>NaN</td>\n",
              "      <td>The Mist</td>\n",
              "      <td>NaN</td>\n",
              "      <td>Xiaomi dangal SmartTV</td>\n",
              "      <td>01:57:28</td>\n",
              "      <td>01:57:28</td>\n",
              "      <td>IN (India)</td>\n",
              "    </tr>\n",
              "    <tr>\n",
              "      <th>5740</th>\n",
              "      <td>Subho</td>\n",
              "      <td>2022-08-06 23:57:04+05:30</td>\n",
              "      <td>0 days 00:42:17</td>\n",
              "      <td>NaN</td>\n",
              "      <td>The Sandman: Season 1: Dream a Little Dream of...</td>\n",
              "      <td>NaN</td>\n",
              "      <td>Xiaomi dangal SmartTV</td>\n",
              "      <td>00:42:11</td>\n",
              "      <td>00:42:11</td>\n",
              "      <td>IN (India)</td>\n",
              "    </tr>\n",
              "    <tr>\n",
              "      <th>5379</th>\n",
              "      <td>Dolly</td>\n",
              "      <td>2020-02-17 22:13:28+05:30</td>\n",
              "      <td>0 days 00:51:07</td>\n",
              "      <td>NaN</td>\n",
              "      <td>Chilling Adventures of Sabrina: Part 2: Chapte...</td>\n",
              "      <td>NaN</td>\n",
              "      <td>Android DefaultWidevineL3Phone Android Phone</td>\n",
              "      <td>00:52:22</td>\n",
              "      <td>00:52:22</td>\n",
              "      <td>IN (India)</td>\n",
              "    </tr>\n",
              "    <tr>\n",
              "      <th>7732</th>\n",
              "      <td>Subho</td>\n",
              "      <td>2021-06-17 18:50:09+05:30</td>\n",
              "      <td>0 days 00:01:18</td>\n",
              "      <td>NaN</td>\n",
              "      <td>F is for Family: Season 3: Mr. Murphy's Wild R...</td>\n",
              "      <td>NaN</td>\n",
              "      <td>Chrome PC (Cadmium)</td>\n",
              "      <td>00:27:05</td>\n",
              "      <td>00:27:05</td>\n",
              "      <td>IN (India)</td>\n",
              "    </tr>\n",
              "    <tr>\n",
              "      <th>1329</th>\n",
              "      <td>Dev</td>\n",
              "      <td>2020-06-29 00:19:17+05:30</td>\n",
              "      <td>0 days 00:00:41</td>\n",
              "      <td>NaN</td>\n",
              "      <td>Dark: Season 1: Secrets (Episode 1)</td>\n",
              "      <td>NaN</td>\n",
              "      <td>Android DefaultWidevineL3Tablet Android Tablet</td>\n",
              "      <td>00:01:07</td>\n",
              "      <td>Not latest view</td>\n",
              "      <td>IN (India)</td>\n",
              "    </tr>\n",
              "    <tr>\n",
              "      <th>2460</th>\n",
              "      <td>Dolly</td>\n",
              "      <td>2021-11-29 15:30:35+05:30</td>\n",
              "      <td>0 days 01:24:10</td>\n",
              "      <td>NaN</td>\n",
              "      <td>Dhamaka</td>\n",
              "      <td>NaN</td>\n",
              "      <td>Android DefaultWidevineL3Phone Android Phone</td>\n",
              "      <td>01:34:16</td>\n",
              "      <td>01:34:16</td>\n",
              "      <td>IN (India)</td>\n",
              "    </tr>\n",
              "  </tbody>\n",
              "</table>\n",
              "</div>\n",
              "      <button class=\"colab-df-convert\" onclick=\"convertToInteractive('df-7b75f313-4786-41b6-9cd7-c448532fcce9')\"\n",
              "              title=\"Convert this dataframe to an interactive table.\"\n",
              "              style=\"display:none;\">\n",
              "        \n",
              "  <svg xmlns=\"http://www.w3.org/2000/svg\" height=\"24px\"viewBox=\"0 0 24 24\"\n",
              "       width=\"24px\">\n",
              "    <path d=\"M0 0h24v24H0V0z\" fill=\"none\"/>\n",
              "    <path d=\"M18.56 5.44l.94 2.06.94-2.06 2.06-.94-2.06-.94-.94-2.06-.94 2.06-2.06.94zm-11 1L8.5 8.5l.94-2.06 2.06-.94-2.06-.94L8.5 2.5l-.94 2.06-2.06.94zm10 10l.94 2.06.94-2.06 2.06-.94-2.06-.94-.94-2.06-.94 2.06-2.06.94z\"/><path d=\"M17.41 7.96l-1.37-1.37c-.4-.4-.92-.59-1.43-.59-.52 0-1.04.2-1.43.59L10.3 9.45l-7.72 7.72c-.78.78-.78 2.05 0 2.83L4 21.41c.39.39.9.59 1.41.59.51 0 1.02-.2 1.41-.59l7.78-7.78 2.81-2.81c.8-.78.8-2.07 0-2.86zM5.41 20L4 18.59l7.72-7.72 1.47 1.35L5.41 20z\"/>\n",
              "  </svg>\n",
              "      </button>\n",
              "      \n",
              "  <style>\n",
              "    .colab-df-container {\n",
              "      display:flex;\n",
              "      flex-wrap:wrap;\n",
              "      gap: 12px;\n",
              "    }\n",
              "\n",
              "    .colab-df-convert {\n",
              "      background-color: #E8F0FE;\n",
              "      border: none;\n",
              "      border-radius: 50%;\n",
              "      cursor: pointer;\n",
              "      display: none;\n",
              "      fill: #1967D2;\n",
              "      height: 32px;\n",
              "      padding: 0 0 0 0;\n",
              "      width: 32px;\n",
              "    }\n",
              "\n",
              "    .colab-df-convert:hover {\n",
              "      background-color: #E2EBFA;\n",
              "      box-shadow: 0px 1px 2px rgba(60, 64, 67, 0.3), 0px 1px 3px 1px rgba(60, 64, 67, 0.15);\n",
              "      fill: #174EA6;\n",
              "    }\n",
              "\n",
              "    [theme=dark] .colab-df-convert {\n",
              "      background-color: #3B4455;\n",
              "      fill: #D2E3FC;\n",
              "    }\n",
              "\n",
              "    [theme=dark] .colab-df-convert:hover {\n",
              "      background-color: #434B5C;\n",
              "      box-shadow: 0px 1px 3px 1px rgba(0, 0, 0, 0.15);\n",
              "      filter: drop-shadow(0px 1px 2px rgba(0, 0, 0, 0.3));\n",
              "      fill: #FFFFFF;\n",
              "    }\n",
              "  </style>\n",
              "\n",
              "      <script>\n",
              "        const buttonEl =\n",
              "          document.querySelector('#df-7b75f313-4786-41b6-9cd7-c448532fcce9 button.colab-df-convert');\n",
              "        buttonEl.style.display =\n",
              "          google.colab.kernel.accessAllowed ? 'block' : 'none';\n",
              "\n",
              "        async function convertToInteractive(key) {\n",
              "          const element = document.querySelector('#df-7b75f313-4786-41b6-9cd7-c448532fcce9');\n",
              "          const dataTable =\n",
              "            await google.colab.kernel.invokeFunction('convertToInteractive',\n",
              "                                                     [key], {});\n",
              "          if (!dataTable) return;\n",
              "\n",
              "          const docLinkHtml = 'Like what you see? Visit the ' +\n",
              "            '<a target=\"_blank\" href=https://colab.research.google.com/notebooks/data_table.ipynb>data table notebook</a>'\n",
              "            + ' to learn more about interactive tables.';\n",
              "          element.innerHTML = '';\n",
              "          dataTable['output_type'] = 'display_data';\n",
              "          await google.colab.output.renderOutput(dataTable, element);\n",
              "          const docLink = document.createElement('div');\n",
              "          docLink.innerHTML = docLinkHtml;\n",
              "          element.appendChild(docLink);\n",
              "        }\n",
              "      </script>\n",
              "    </div>\n",
              "  </div>\n",
              "  "
            ]
          },
          "metadata": {},
          "execution_count": 64
        }
      ]
    },
    {
      "cell_type": "code",
      "source": [
        "#Which Profile has the most watching activities/interactions?\n",
        "df['Profile Name'].value_counts()\n"
      ],
      "metadata": {
        "colab": {
          "base_uri": "https://localhost:8080/"
        },
        "id": "fnkoLBYeXcsZ",
        "outputId": "3e15d228-cf29-48f9-b447-e19a3ca08be0"
      },
      "execution_count": null,
      "outputs": [
        {
          "output_type": "execute_result",
          "data": {
            "text/plain": [
              "Subho    4143\n",
              "panda    3896\n",
              "Dolly    3609\n",
              "Dev      1827\n",
              "Kids        3\n",
              "Name: Profile Name, dtype: int64"
            ]
          },
          "metadata": {},
          "execution_count": 65
        }
      ]
    },
    {
      "cell_type": "code",
      "source": [
        "%matplotlib inline\n",
        "import matplotlib\n",
        "import matplotlib.pyplot as plt\n",
        "df['Profile Name'].value_counts().plot(kind='bar')\n",
        "plt.show()"
      ],
      "metadata": {
        "colab": {
          "base_uri": "https://localhost:8080/",
          "height": 287
        },
        "id": "z4GWGfOrYccn",
        "outputId": "47a4c71a-95b6-4870-8375-b54eb18c9c9e"
      },
      "execution_count": null,
      "outputs": [
        {
          "output_type": "display_data",
          "data": {
            "text/plain": [
              "<Figure size 432x288 with 1 Axes>"
            ],
            "image/png": "[encoded data removed]"
          },
          "metadata": {
            "needs_background": "light"
          }
        }
      ]
    },
    {
      "cell_type": "code",
      "source": [
        "df['Duration'].sum()"
      ],
      "metadata": {
        "colab": {
          "base_uri": "https://localhost:8080/"
        },
        "id": "Q5_y2Ml5YlHy",
        "outputId": "1244b222-b65c-41fd-b67a-8c80912ed095"
      },
      "execution_count": null,
      "outputs": [
        {
          "output_type": "execute_result",
          "data": {
            "text/plain": [
              "Timedelta('146 days 04:29:02')"
            ]
          },
          "metadata": {},
          "execution_count": 67
        }
      ]
    },
    {
      "cell_type": "code",
      "source": [
        "df.sort_values('Start Time')"
      ],
      "metadata": {
        "colab": {
          "base_uri": "https://localhost:8080/",
          "height": 659
        },
        "id": "KxzeRYWQYqRP",
        "outputId": "a8395aa3-37fb-439f-808b-4a9d38593ac7"
      },
      "execution_count": null,
      "outputs": [
        {
          "output_type": "execute_result",
          "data": {
            "text/plain": [
              "     Profile Name                Start Time        Duration  \\\n",
              "1826          Dev 2020-01-01 14:20:03+05:30 0 days 00:00:08   \n",
              "1825          Dev 2020-01-01 14:23:40+05:30 0 days 00:02:14   \n",
              "1824          Dev 2020-01-02 00:26:06+05:30 0 days 00:59:53   \n",
              "1823          Dev 2020-01-02 01:26:55+05:30 0 days 00:58:38   \n",
              "1822          Dev 2020-01-03 01:57:37+05:30 0 days 01:04:25   \n",
              "...           ...                       ...             ...   \n",
              "5441        Subho 2022-10-14 14:33:23+05:30 0 days 00:28:15   \n",
              "9583        panda 2022-10-14 21:39:55+05:30 0 days 00:34:58   \n",
              "9582        panda 2022-10-14 22:14:54+05:30 0 days 00:00:57   \n",
              "5440        Subho 2022-10-14 22:27:00+05:30 0 days 00:00:05   \n",
              "5439        Subho 2022-10-14 22:35:45+05:30 0 days 00:13:47   \n",
              "\n",
              "                           Attributes  \\\n",
              "1826                              NaN   \n",
              "1825                              NaN   \n",
              "1824                              NaN   \n",
              "1823                              NaN   \n",
              "1822                              NaN   \n",
              "...                               ...   \n",
              "5441                              NaN   \n",
              "9583                              NaN   \n",
              "9582                              NaN   \n",
              "5440  Autoplayed: user action: None;    \n",
              "5439                              NaN   \n",
              "\n",
              "                                                  Title  \\\n",
              "1826  Stranger Things: Season 1: Chapter One: The Va...   \n",
              "1825  Stranger Things: Stranger Things 3: Chapter On...   \n",
              "1824  The Witcher: Season 1: The End’s Beginning (Ep...   \n",
              "1823      The Witcher: Season 1: Four Marks (Episode 2)   \n",
              "1822   The Witcher: Season 1: Betrayer Moon (Episode 3)   \n",
              "...                                                 ...   \n",
              "5441                                          Annabelle   \n",
              "9583          Dali & Cocky Prince: Season 1: Episode 12   \n",
              "9582          Dali & Cocky Prince: Season 1: Episode 13   \n",
              "5440                 Teaser: The Curse of Bridge Hollow   \n",
              "5439  Fate: The Winx Saga: Season 2: Taken By The Wi...   \n",
              "\n",
              "     Supplemental Video Type                                   Device Type  \\\n",
              "1826                     NaN  Android DefaultWidevineL3Phone Android Phone   \n",
              "1825                     NaN  Android DefaultWidevineL3Phone Android Phone   \n",
              "1824                     NaN  Android DefaultWidevineL3Phone Android Phone   \n",
              "1823                     NaN  Android DefaultWidevineL3Phone Android Phone   \n",
              "1822                     NaN  Android DefaultWidevineL3Phone Android Phone   \n",
              "...                      ...                                           ...   \n",
              "5441                     NaN      Hisense MSD6486 on FHD platform Smart TV   \n",
              "9583                     NaN           Apple iPad 6th Gen 9.7 (Wi-Fi) iPad   \n",
              "9582                     NaN           Apple iPad 6th Gen 9.7 (Wi-Fi) iPad   \n",
              "5440          TEASER_TRAILER           Netflix Chrome MAC (Cadmium) HTML 5   \n",
              "5439                     NaN           Netflix Chrome MAC (Cadmium) HTML 5   \n",
              "\n",
              "      Bookmark  Latest Bookmark     Country  \n",
              "1826  00:00:08         00:00:08  IN (India)  \n",
              "1825  00:00:48  Not latest view  IN (India)  \n",
              "1824  00:59:00         00:59:00  IN (India)  \n",
              "1823  00:58:46         00:58:46  IN (India)  \n",
              "1822  01:04:25         01:04:25  IN (India)  \n",
              "...        ...              ...         ...  \n",
              "5441  00:43:18         00:43:18  IN (India)  \n",
              "9583  01:03:18         01:03:18  IN (India)  \n",
              "9582  00:00:57         00:00:57  IN (India)  \n",
              "5440  00:00:05         00:00:05  IN (India)  \n",
              "5439  00:13:47         00:13:47  IN (India)  \n",
              "\n",
              "[13478 rows x 10 columns]"
            ],
            "text/html": [
              "\n",
              "  <div id=\"df-f418935f-d077-4ffa-abdd-db3b1baca1a8\">\n",
              "    <div class=\"colab-df-container\">\n",
              "      <div>\n",
              "<style scoped>\n",
              "    .dataframe tbody tr th:only-of-type {\n",
              "        vertical-align: middle;\n",
              "    }\n",
              "\n",
              "    .dataframe tbody tr th {\n",
              "        vertical-align: top;\n",
              "    }\n",
              "\n",
              "    .dataframe thead th {\n",
              "        text-align: right;\n",
              "    }\n",
              "</style>\n",
              "<table border=\"1\" class=\"dataframe\">\n",
              "  <thead>\n",
              "    <tr style=\"text-align: right;\">\n",
              "      <th></th>\n",
              "      <th>Profile Name</th>\n",
              "      <th>Start Time</th>\n",
              "      <th>Duration</th>\n",
              "      <th>Attributes</th>\n",
              "      <th>Title</th>\n",
              "      <th>Supplemental Video Type</th>\n",
              "      <th>Device Type</th>\n",
              "      <th>Bookmark</th>\n",
              "      <th>Latest Bookmark</th>\n",
              "      <th>Country</th>\n",
              "    </tr>\n",
              "  </thead>\n",
              "  <tbody>\n",
              "    <tr>\n",
              "      <th>1826</th>\n",
              "      <td>Dev</td>\n",
              "      <td>2020-01-01 14:20:03+05:30</td>\n",
              "      <td>0 days 00:00:08</td>\n",
              "      <td>NaN</td>\n",
              "      <td>Stranger Things: Season 1: Chapter One: The Va...</td>\n",
              "      <td>NaN</td>\n",
              "      <td>Android DefaultWidevineL3Phone Android Phone</td>\n",
              "      <td>00:00:08</td>\n",
              "      <td>00:00:08</td>\n",
              "      <td>IN (India)</td>\n",
              "    </tr>\n",
              "    <tr>\n",
              "      <th>1825</th>\n",
              "      <td>Dev</td>\n",
              "      <td>2020-01-01 14:23:40+05:30</td>\n",
              "      <td>0 days 00:02:14</td>\n",
              "      <td>NaN</td>\n",
              "      <td>Stranger Things: Stranger Things 3: Chapter On...</td>\n",
              "      <td>NaN</td>\n",
              "      <td>Android DefaultWidevineL3Phone Android Phone</td>\n",
              "      <td>00:00:48</td>\n",
              "      <td>Not latest view</td>\n",
              "      <td>IN (India)</td>\n",
              "    </tr>\n",
              "    <tr>\n",
              "      <th>1824</th>\n",
              "      <td>Dev</td>\n",
              "      <td>2020-01-02 00:26:06+05:30</td>\n",
              "      <td>0 days 00:59:53</td>\n",
              "      <td>NaN</td>\n",
              "      <td>The Witcher: Season 1: The End’s Beginning (Ep...</td>\n",
              "      <td>NaN</td>\n",
              "      <td>Android DefaultWidevineL3Phone Android Phone</td>\n",
              "      <td>00:59:00</td>\n",
              "      <td>00:59:00</td>\n",
              "      <td>IN (India)</td>\n",
              "    </tr>\n",
              "    <tr>\n",
              "      <th>1823</th>\n",
              "      <td>Dev</td>\n",
              "      <td>2020-01-02 01:26:55+05:30</td>\n",
              "      <td>0 days 00:58:38</td>\n",
              "      <td>NaN</td>\n",
              "      <td>The Witcher: Season 1: Four Marks (Episode 2)</td>\n",
              "      <td>NaN</td>\n",
              "      <td>Android DefaultWidevineL3Phone Android Phone</td>\n",
              "      <td>00:58:46</td>\n",
              "      <td>00:58:46</td>\n",
              "      <td>IN (India)</td>\n",
              "    </tr>\n",
              "    <tr>\n",
              "      <th>1822</th>\n",
              "      <td>Dev</td>\n",
              "      <td>2020-01-03 01:57:37+05:30</td>\n",
              "      <td>0 days 01:04:25</td>\n",
              "      <td>NaN</td>\n",
              "      <td>The Witcher: Season 1: Betrayer Moon (Episode 3)</td>\n",
              "      <td>NaN</td>\n",
              "      <td>Android DefaultWidevineL3Phone Android Phone</td>\n",
              "      <td>01:04:25</td>\n",
              "      <td>01:04:25</td>\n",
              "      <td>IN (India)</td>\n",
              "    </tr>\n",
              "    <tr>\n",
              "      <th>...</th>\n",
              "      <td>...</td>\n",
              "      <td>...</td>\n",
              "      <td>...</td>\n",
              "      <td>...</td>\n",
              "      <td>...</td>\n",
              "      <td>...</td>\n",
              "      <td>...</td>\n",
              "      <td>...</td>\n",
              "      <td>...</td>\n",
              "      <td>...</td>\n",
              "    </tr>\n",
              "    <tr>\n",
              "      <th>5441</th>\n",
              "      <td>Subho</td>\n",
              "      <td>2022-10-14 14:33:23+05:30</td>\n",
              "      <td>0 days 00:28:15</td>\n",
              "      <td>NaN</td>\n",
              "      <td>Annabelle</td>\n",
              "      <td>NaN</td>\n",
              "      <td>Hisense MSD6486 on FHD platform Smart TV</td>\n",
              "      <td>00:43:18</td>\n",
              "      <td>00:43:18</td>\n",
              "      <td>IN (India)</td>\n",
              "    </tr>\n",
              "    <tr>\n",
              "      <th>9583</th>\n",
              "      <td>panda</td>\n",
              "      <td>2022-10-14 21:39:55+05:30</td>\n",
              "      <td>0 days 00:34:58</td>\n",
              "      <td>NaN</td>\n",
              "      <td>Dali &amp; Cocky Prince: Season 1: Episode 12</td>\n",
              "      <td>NaN</td>\n",
              "      <td>Apple iPad 6th Gen 9.7 (Wi-Fi) iPad</td>\n",
              "      <td>01:03:18</td>\n",
              "      <td>01:03:18</td>\n",
              "      <td>IN (India)</td>\n",
              "    </tr>\n",
              "    <tr>\n",
              "      <th>9582</th>\n",
              "      <td>panda</td>\n",
              "      <td>2022-10-14 22:14:54+05:30</td>\n",
              "      <td>0 days 00:00:57</td>\n",
              "      <td>NaN</td>\n",
              "      <td>Dali &amp; Cocky Prince: Season 1: Episode 13</td>\n",
              "      <td>NaN</td>\n",
              "      <td>Apple iPad 6th Gen 9.7 (Wi-Fi) iPad</td>\n",
              "      <td>00:00:57</td>\n",
              "      <td>00:00:57</td>\n",
              "      <td>IN (India)</td>\n",
              "    </tr>\n",
              "    <tr>\n",
              "      <th>5440</th>\n",
              "      <td>Subho</td>\n",
              "      <td>2022-10-14 22:27:00+05:30</td>\n",
              "      <td>0 days 00:00:05</td>\n",
              "      <td>Autoplayed: user action: None;</td>\n",
              "      <td>Teaser: The Curse of Bridge Hollow</td>\n",
              "      <td>TEASER_TRAILER</td>\n",
              "      <td>Netflix Chrome MAC (Cadmium) HTML 5</td>\n",
              "      <td>00:00:05</td>\n",
              "      <td>00:00:05</td>\n",
              "      <td>IN (India)</td>\n",
              "    </tr>\n",
              "    <tr>\n",
              "      <th>5439</th>\n",
              "      <td>Subho</td>\n",
              "      <td>2022-10-14 22:35:45+05:30</td>\n",
              "      <td>0 days 00:13:47</td>\n",
              "      <td>NaN</td>\n",
              "      <td>Fate: The Winx Saga: Season 2: Taken By The Wi...</td>\n",
              "      <td>NaN</td>\n",
              "      <td>Netflix Chrome MAC (Cadmium) HTML 5</td>\n",
              "      <td>00:13:47</td>\n",
              "      <td>00:13:47</td>\n",
              "      <td>IN (India)</td>\n",
              "    </tr>\n",
              "  </tbody>\n",
              "</table>\n",
              "<p>13478 rows × 10 columns</p>\n",
              "</div>\n",
              "      <button class=\"colab-df-convert\" onclick=\"convertToInteractive('df-f418935f-d077-4ffa-abdd-db3b1baca1a8')\"\n",
              "              title=\"Convert this dataframe to an interactive table.\"\n",
              "              style=\"display:none;\">\n",
              "        \n",
              "  <svg xmlns=\"http://www.w3.org/2000/svg\" height=\"24px\"viewBox=\"0 0 24 24\"\n",
              "       width=\"24px\">\n",
              "    <path d=\"M0 0h24v24H0V0z\" fill=\"none\"/>\n",
              "    <path d=\"M18.56 5.44l.94 2.06.94-2.06 2.06-.94-2.06-.94-.94-2.06-.94 2.06-2.06.94zm-11 1L8.5 8.5l.94-2.06 2.06-.94-2.06-.94L8.5 2.5l-.94 2.06-2.06.94zm10 10l.94 2.06.94-2.06 2.06-.94-2.06-.94-.94-2.06-.94 2.06-2.06.94z\"/><path d=\"M17.41 7.96l-1.37-1.37c-.4-.4-.92-.59-1.43-.59-.52 0-1.04.2-1.43.59L10.3 9.45l-7.72 7.72c-.78.78-.78 2.05 0 2.83L4 21.41c.39.39.9.59 1.41.59.51 0 1.02-.2 1.41-.59l7.78-7.78 2.81-2.81c.8-.78.8-2.07 0-2.86zM5.41 20L4 18.59l7.72-7.72 1.47 1.35L5.41 20z\"/>\n",
              "  </svg>\n",
              "      </button>\n",
              "      \n",
              "  <style>\n",
              "    .colab-df-container {\n",
              "      display:flex;\n",
              "      flex-wrap:wrap;\n",
              "      gap: 12px;\n",
              "    }\n",
              "\n",
              "    .colab-df-convert {\n",
              "      background-color: #E8F0FE;\n",
              "      border: none;\n",
              "      border-radius: 50%;\n",
              "      cursor: pointer;\n",
              "      display: none;\n",
              "      fill: #1967D2;\n",
              "      height: 32px;\n",
              "      padding: 0 0 0 0;\n",
              "      width: 32px;\n",
              "    }\n",
              "\n",
              "    .colab-df-convert:hover {\n",
              "      background-color: #E2EBFA;\n",
              "      box-shadow: 0px 1px 2px rgba(60, 64, 67, 0.3), 0px 1px 3px 1px rgba(60, 64, 67, 0.15);\n",
              "      fill: #174EA6;\n",
              "    }\n",
              "\n",
              "    [theme=dark] .colab-df-convert {\n",
              "      background-color: #3B4455;\n",
              "      fill: #D2E3FC;\n",
              "    }\n",
              "\n",
              "    [theme=dark] .colab-df-convert:hover {\n",
              "      background-color: #434B5C;\n",
              "      box-shadow: 0px 1px 3px 1px rgba(0, 0, 0, 0.15);\n",
              "      filter: drop-shadow(0px 1px 2px rgba(0, 0, 0, 0.3));\n",
              "      fill: #FFFFFF;\n",
              "    }\n",
              "  </style>\n",
              "\n",
              "      <script>\n",
              "        const buttonEl =\n",
              "          document.querySelector('#df-f418935f-d077-4ffa-abdd-db3b1baca1a8 button.colab-df-convert');\n",
              "        buttonEl.style.display =\n",
              "          google.colab.kernel.accessAllowed ? 'block' : 'none';\n",
              "\n",
              "        async function convertToInteractive(key) {\n",
              "          const element = document.querySelector('#df-f418935f-d077-4ffa-abdd-db3b1baca1a8');\n",
              "          const dataTable =\n",
              "            await google.colab.kernel.invokeFunction('convertToInteractive',\n",
              "                                                     [key], {});\n",
              "          if (!dataTable) return;\n",
              "\n",
              "          const docLinkHtml = 'Like what you see? Visit the ' +\n",
              "            '<a target=\"_blank\" href=https://colab.research.google.com/notebooks/data_table.ipynb>data table notebook</a>'\n",
              "            + ' to learn more about interactive tables.';\n",
              "          element.innerHTML = '';\n",
              "          dataTable['output_type'] = 'display_data';\n",
              "          await google.colab.output.renderOutput(dataTable, element);\n",
              "          const docLink = document.createElement('div');\n",
              "          docLink.innerHTML = docLinkHtml;\n",
              "          element.appendChild(docLink);\n",
              "        }\n",
              "      </script>\n",
              "    </div>\n",
              "  </div>\n",
              "  "
            ]
          },
          "metadata": {},
          "execution_count": 68
        }
      ]
    },
    {
      "cell_type": "code",
      "source": [
        "df.loc[df['Profile Name']=='Dev','Duration'].sum()"
      ],
      "metadata": {
        "colab": {
          "base_uri": "https://localhost:8080/"
        },
        "id": "EwQLSw8xYqX-",
        "outputId": "96361255-d5ea-429c-9994-e2642ed2fa94"
      },
      "execution_count": null,
      "outputs": [
        {
          "output_type": "execute_result",
          "data": {
            "text/plain": [
              "Timedelta('23 days 06:17:33')"
            ]
          },
          "metadata": {},
          "execution_count": 69
        }
      ]
    },
    {
      "cell_type": "code",
      "source": [
        "df.loc[df['Profile Name']=='Kids','Duration'].sum()"
      ],
      "metadata": {
        "colab": {
          "base_uri": "https://localhost:8080/"
        },
        "id": "w0z9JHg6ZTQG",
        "outputId": "16888d20-315b-4f2e-e045-c7a2d08f872d"
      },
      "execution_count": null,
      "outputs": [
        {
          "output_type": "execute_result",
          "data": {
            "text/plain": [
              "Timedelta('0 days 01:36:37')"
            ]
          },
          "metadata": {},
          "execution_count": 70
        }
      ]
    },
    {
      "cell_type": "code",
      "source": [
        "df.loc[df['Profile Name']=='Subho','Duration'].sum()"
      ],
      "metadata": {
        "colab": {
          "base_uri": "https://localhost:8080/"
        },
        "id": "PNbHw2sfZJIt",
        "outputId": "898a7ca1-351f-47cf-abf2-9394b7cda9e5"
      },
      "execution_count": null,
      "outputs": [
        {
          "output_type": "execute_result",
          "data": {
            "text/plain": [
              "Timedelta('43 days 04:15:01')"
            ]
          },
          "metadata": {},
          "execution_count": 71
        }
      ]
    },
    {
      "cell_type": "code",
      "source": [
        "df.loc[df['Profile Name']=='panda','Duration'].sum()"
      ],
      "metadata": {
        "colab": {
          "base_uri": "https://localhost:8080/"
        },
        "id": "K9c_2yXXZL6U",
        "outputId": "1007a481-5aae-4a2f-951f-aa5b74d12c52"
      },
      "execution_count": null,
      "outputs": [
        {
          "output_type": "execute_result",
          "data": {
            "text/plain": [
              "Timedelta('48 days 23:56:38')"
            ]
          },
          "metadata": {},
          "execution_count": 72
        }
      ]
    },
    {
      "cell_type": "code",
      "source": [
        "df.loc[df['Profile Name']=='Dolly','Duration'].sum()"
      ],
      "metadata": {
        "colab": {
          "base_uri": "https://localhost:8080/"
        },
        "id": "pA_4Y5SSZPc5",
        "outputId": "3e7cb72b-83c4-4f6a-df1e-58494a08ab70"
      },
      "execution_count": null,
      "outputs": [
        {
          "output_type": "execute_result",
          "data": {
            "text/plain": [
              "Timedelta('30 days 16:23:13')"
            ]
          },
          "metadata": {},
          "execution_count": 73
        }
      ]
    },
    {
      "cell_type": "code",
      "source": [
        "df.loc[df['Profile Name']=='Subho','Duration'].astype('timedelta64[s]').sum()"
      ],
      "metadata": {
        "colab": {
          "base_uri": "https://localhost:8080/"
        },
        "id": "evPn_DMzZYCg",
        "outputId": "167efab8-e7f1-438a-e342-a70ca63c35a5"
      },
      "execution_count": null,
      "outputs": [
        {
          "output_type": "execute_result",
          "data": {
            "text/plain": [
              "3730501.0"
            ]
          },
          "metadata": {},
          "execution_count": 74
        }
      ]
    },
    {
      "cell_type": "code",
      "source": [
        "viewTime = {}\n",
        "viewTime.update({\"Dev\": df.loc[df['Profile Name']=='Dev','Duration'].astype('timedelta64[s]').sum()})\n",
        "viewTime.update({\"Dolly\": df.loc[df['Profile Name']=='Dolly','Duration'].astype('timedelta64[s]').sum()})\n",
        "viewTime.update({\"Kids\": df.loc[df['Profile Name']=='Kids','Duration'].astype('timedelta64[s]').sum()})\n",
        "viewTime.update({\"Subho\": df.loc[df['Profile Name']=='Subho','Duration'].astype('timedelta64[s]').sum()})\n",
        "viewTime.update({\"panda\": df.loc[df['Profile Name']=='panda','Duration'].astype('timedelta64[s]').sum()})\n",
        "viewTime"
      ],
      "metadata": {
        "colab": {
          "base_uri": "https://localhost:8080/"
        },
        "id": "a80CKBq8Zm0_",
        "outputId": "62ef1fd9-03b2-4d5b-9d95-38c9d142ab9f"
      },
      "execution_count": null,
      "outputs": [
        {
          "output_type": "execute_result",
          "data": {
            "text/plain": [
              "{'Dev': 2009853.0,\n",
              " 'Dolly': 2650993.0,\n",
              " 'Kids': 5797.0,\n",
              " 'Subho': 3730501.0,\n",
              " 'panda': 4233398.0}"
            ]
          },
          "metadata": {},
          "execution_count": 75
        }
      ]
    },
    {
      "cell_type": "code",
      "source": [
        "%matplotlib inline\n",
        "import matplotlib\n",
        "import matplotlib.pyplot as plt\n",
        "plt.bar(*zip(*viewTime.items()))\n",
        "plt.show()"
      ],
      "metadata": {
        "colab": {
          "base_uri": "https://localhost:8080/",
          "height": 276
        },
        "id": "MOaVQ91nZ4PG",
        "outputId": "6f984397-2d5f-4c6c-e895-c43ccfc841c8"
      },
      "execution_count": null,
      "outputs": [
        {
          "output_type": "display_data",
          "data": {
            "text/plain": [
              "<Figure size 432x288 with 1 Axes>"
            ],
            "image/png": "[encoded data removed]"
          },
          "metadata": {
            "needs_background": "light"
          }
        }
      ]
    },
    {
      "cell_type": "code",
      "source": [
        "#What is the average watching time (per Profile)?\n",
        "df['Profile Name'].value_counts()"
      ],
      "metadata": {
        "colab": {
          "base_uri": "https://localhost:8080/"
        },
        "id": "AZTXrHkIZ4Y-",
        "outputId": "b10ffa72-0032-4121-c415-9cbe3a546aea"
      },
      "execution_count": null,
      "outputs": [
        {
          "output_type": "execute_result",
          "data": {
            "text/plain": [
              "Subho    4143\n",
              "panda    3896\n",
              "Dolly    3609\n",
              "Dev      1827\n",
              "Kids        3\n",
              "Name: Profile Name, dtype: int64"
            ]
          },
          "metadata": {},
          "execution_count": 77
        }
      ]
    },
    {
      "cell_type": "code",
      "source": [
        "df.loc[df['Profile Name']=='Dev','Duration'].sum()/1827"
      ],
      "metadata": {
        "colab": {
          "base_uri": "https://localhost:8080/"
        },
        "id": "0_tUDDjDaEJl",
        "outputId": "7f02d243-152e-4db1-8168-cee60248ee61"
      },
      "execution_count": null,
      "outputs": [
        {
          "output_type": "execute_result",
          "data": {
            "text/plain": [
              "Timedelta('0 days 00:18:20.083743842')"
            ]
          },
          "metadata": {},
          "execution_count": 78
        }
      ]
    },
    {
      "cell_type": "code",
      "source": [
        "df.loc[df['Profile Name']=='Subho','Duration'].sum()/4143"
      ],
      "metadata": {
        "colab": {
          "base_uri": "https://localhost:8080/"
        },
        "id": "27lyEPMXaQys",
        "outputId": "b955c97d-f379-46f3-ba30-f61be46a8da7"
      },
      "execution_count": null,
      "outputs": [
        {
          "output_type": "execute_result",
          "data": {
            "text/plain": [
              "Timedelta('0 days 00:15:00.434709147')"
            ]
          },
          "metadata": {},
          "execution_count": 79
        }
      ]
    },
    {
      "cell_type": "code",
      "source": [
        "df.loc[df['Profile Name']=='Dolly','Duration'].sum()/3609"
      ],
      "metadata": {
        "colab": {
          "base_uri": "https://localhost:8080/"
        },
        "id": "j_-slMMuaWyB",
        "outputId": "a8fee808-8b29-4228-b3cb-7ec262ce9dcf"
      },
      "execution_count": null,
      "outputs": [
        {
          "output_type": "execute_result",
          "data": {
            "text/plain": [
              "Timedelta('0 days 00:12:14.550568024')"
            ]
          },
          "metadata": {},
          "execution_count": 80
        }
      ]
    },
    {
      "cell_type": "code",
      "source": [
        "df.loc[df['Profile Name']=='panda','Duration'].sum()/3896"
      ],
      "metadata": {
        "colab": {
          "base_uri": "https://localhost:8080/"
        },
        "id": "-DEFlTpBaejJ",
        "outputId": "8e6b7f18-2363-4b3e-b4b8-cff87c812de6"
      },
      "execution_count": null,
      "outputs": [
        {
          "output_type": "execute_result",
          "data": {
            "text/plain": [
              "Timedelta('0 days 00:18:06.601129363')"
            ]
          },
          "metadata": {},
          "execution_count": 81
        }
      ]
    },
    {
      "cell_type": "code",
      "source": [
        "df['Supplemental Video Type'].value_counts()"
      ],
      "metadata": {
        "colab": {
          "base_uri": "https://localhost:8080/"
        },
        "id": "s5ntK-zha3VG",
        "outputId": "30ef84ed-ad9e-4939-aeb2-11392027a7e2"
      },
      "execution_count": null,
      "outputs": [
        {
          "output_type": "execute_result",
          "data": {
            "text/plain": [
              "HOOK              1133\n",
              "TRAILER            640\n",
              "PROMOTIONAL        150\n",
              "TEASER_TRAILER     118\n",
              "RECAP               31\n",
              "Name: Supplemental Video Type, dtype: int64"
            ]
          },
          "metadata": {},
          "execution_count": 82
        }
      ]
    },
    {
      "cell_type": "code",
      "source": [
        "df.loc[df['Supplemental Video Type'].isnull()]"
      ],
      "metadata": {
        "colab": {
          "base_uri": "https://localhost:8080/",
          "height": 659
        },
        "id": "OUCv1HyZa3ea",
        "outputId": "a2da274f-f6de-4281-e0c4-f318c75d3115"
      },
      "execution_count": null,
      "outputs": [
        {
          "output_type": "execute_result",
          "data": {
            "text/plain": [
              "      Profile Name                Start Time        Duration Attributes  \\\n",
              "0              Dev 2022-10-13 21:36:40+05:30 0 days 01:30:28        NaN   \n",
              "2              Dev 2022-10-13 21:32:50+05:30 0 days 00:00:47        NaN   \n",
              "12             Dev 2022-10-06 22:12:36+05:30 0 days 00:00:03        NaN   \n",
              "13             Dev 2022-10-06 22:12:19+05:30 0 days 00:00:05        NaN   \n",
              "14             Dev 2022-10-06 22:11:28+05:30 0 days 00:00:03        NaN   \n",
              "...            ...                       ...             ...        ...   \n",
              "13473        panda 2020-01-09 14:25:25+05:30 0 days 00:31:06        NaN   \n",
              "13474        panda 2020-01-09 11:59:06+05:30 0 days 00:07:45        NaN   \n",
              "13475        panda 2020-01-08 13:55:44+05:30 0 days 00:00:43        NaN   \n",
              "13476        panda 2020-01-08 00:05:37+05:30 0 days 00:43:31        NaN   \n",
              "13477        panda 2020-01-07 20:41:16+05:30 0 days 01:52:20        NaN   \n",
              "\n",
              "                                                   Title  \\\n",
              "0                                            The Package   \n",
              "2                                            The Package   \n",
              "12                                         Plan A Plan B   \n",
              "13                                         Plan A Plan B   \n",
              "14                                         Plan A Plan B   \n",
              "...                                                  ...   \n",
              "13473  The Haunting of Hill House: Season 1: Steven S...   \n",
              "13474  The Haunting of Hill House: Season 1: Steven S...   \n",
              "13475  The Haunting of Hill House: Season 1: Steven S...   \n",
              "13476                                    Dil Dhadakne Do   \n",
              "13477                                    Dil Dhadakne Do   \n",
              "\n",
              "      Supplemental Video Type                          Device Type  Bookmark  \\\n",
              "0                         NaN                  Chrome PC (Cadmium)  01:27:48   \n",
              "2                         NaN                  Chrome PC (Cadmium)  00:00:47   \n",
              "12                        NaN          DefaultWidevineAndroidPhone  00:00:08   \n",
              "13                        NaN          DefaultWidevineAndroidPhone  00:00:05   \n",
              "14                        NaN          DefaultWidevineAndroidPhone  00:00:03   \n",
              "...                       ...                                  ...       ...   \n",
              "13473                     NaN  Apple iPad 6th Gen 9.7 (Wi-Fi) iPad  00:42:03   \n",
              "13474                     NaN  Apple iPad 6th Gen 9.7 (Wi-Fi) iPad  00:07:46   \n",
              "13475                     NaN  Apple iPad 6th Gen 9.7 (Wi-Fi) iPad  00:00:00   \n",
              "13476                     NaN  Apple iPad 6th Gen 9.7 (Wi-Fi) iPad  02:53:49   \n",
              "13477                     NaN  Apple iPad 6th Gen 9.7 (Wi-Fi) iPad  02:05:14   \n",
              "\n",
              "       Latest Bookmark     Country  \n",
              "0             01:27:48  IN (India)  \n",
              "2      Not latest view  IN (India)  \n",
              "12            00:00:08  IN (India)  \n",
              "13     Not latest view  IN (India)  \n",
              "14     Not latest view  IN (India)  \n",
              "...                ...         ...  \n",
              "13473         00:42:03  IN (India)  \n",
              "13474  Not latest view  IN (India)  \n",
              "13475  Not latest view  IN (India)  \n",
              "13476         02:53:49  IN (India)  \n",
              "13477  Not latest view  IN (India)  \n",
              "\n",
              "[11406 rows x 10 columns]"
            ],
            "text/html": [
              "\n",
              "  <div id=\"df-da661c4e-dab3-4ff3-b625-4f0a1e29a6b3\">\n",
              "    <div class=\"colab-df-container\">\n",
              "      <div>\n",
              "<style scoped>\n",
              "    .dataframe tbody tr th:only-of-type {\n",
              "        vertical-align: middle;\n",
              "    }\n",
              "\n",
              "    .dataframe tbody tr th {\n",
              "        vertical-align: top;\n",
              "    }\n",
              "\n",
              "    .dataframe thead th {\n",
              "        text-align: right;\n",
              "    }\n",
              "</style>\n",
              "<table border=\"1\" class=\"dataframe\">\n",
              "  <thead>\n",
              "    <tr style=\"text-align: right;\">\n",
              "      <th></th>\n",
              "      <th>Profile Name</th>\n",
              "      <th>Start Time</th>\n",
              "      <th>Duration</th>\n",
              "      <th>Attributes</th>\n",
              "      <th>Title</th>\n",
              "      <th>Supplemental Video Type</th>\n",
              "      <th>Device Type</th>\n",
              "      <th>Bookmark</th>\n",
              "      <th>Latest Bookmark</th>\n",
              "      <th>Country</th>\n",
              "    </tr>\n",
              "  </thead>\n",
              "  <tbody>\n",
              "    <tr>\n",
              "      <th>0</th>\n",
              "      <td>Dev</td>\n",
              "      <td>2022-10-13 21:36:40+05:30</td>\n",
              "      <td>0 days 01:30:28</td>\n",
              "      <td>NaN</td>\n",
              "      <td>The Package</td>\n",
              "      <td>NaN</td>\n",
              "      <td>Chrome PC (Cadmium)</td>\n",
              "      <td>01:27:48</td>\n",
              "      <td>01:27:48</td>\n",
              "      <td>IN (India)</td>\n",
              "    </tr>\n",
              "    <tr>\n",
              "      <th>2</th>\n",
              "      <td>Dev</td>\n",
              "      <td>2022-10-13 21:32:50+05:30</td>\n",
              "      <td>0 days 00:00:47</td>\n",
              "      <td>NaN</td>\n",
              "      <td>The Package</td>\n",
              "      <td>NaN</td>\n",
              "      <td>Chrome PC (Cadmium)</td>\n",
              "      <td>00:00:47</td>\n",
              "      <td>Not latest view</td>\n",
              "      <td>IN (India)</td>\n",
              "    </tr>\n",
              "    <tr>\n",
              "      <th>12</th>\n",
              "      <td>Dev</td>\n",
              "      <td>2022-10-06 22:12:36+05:30</td>\n",
              "      <td>0 days 00:00:03</td>\n",
              "      <td>NaN</td>\n",
              "      <td>Plan A Plan B</td>\n",
              "      <td>NaN</td>\n",
              "      <td>DefaultWidevineAndroidPhone</td>\n",
              "      <td>00:00:08</td>\n",
              "      <td>00:00:08</td>\n",
              "      <td>IN (India)</td>\n",
              "    </tr>\n",
              "    <tr>\n",
              "      <th>13</th>\n",
              "      <td>Dev</td>\n",
              "      <td>2022-10-06 22:12:19+05:30</td>\n",
              "      <td>0 days 00:00:05</td>\n",
              "      <td>NaN</td>\n",
              "      <td>Plan A Plan B</td>\n",
              "      <td>NaN</td>\n",
              "      <td>DefaultWidevineAndroidPhone</td>\n",
              "      <td>00:00:05</td>\n",
              "      <td>Not latest view</td>\n",
              "      <td>IN (India)</td>\n",
              "    </tr>\n",
              "    <tr>\n",
              "      <th>14</th>\n",
              "      <td>Dev</td>\n",
              "      <td>2022-10-06 22:11:28+05:30</td>\n",
              "      <td>0 days 00:00:03</td>\n",
              "      <td>NaN</td>\n",
              "      <td>Plan A Plan B</td>\n",
              "      <td>NaN</td>\n",
              "      <td>DefaultWidevineAndroidPhone</td>\n",
              "      <td>00:00:03</td>\n",
              "      <td>Not latest view</td>\n",
              "      <td>IN (India)</td>\n",
              "    </tr>\n",
              "    <tr>\n",
              "      <th>...</th>\n",
              "      <td>...</td>\n",
              "      <td>...</td>\n",
              "      <td>...</td>\n",
              "      <td>...</td>\n",
              "      <td>...</td>\n",
              "      <td>...</td>\n",
              "      <td>...</td>\n",
              "      <td>...</td>\n",
              "      <td>...</td>\n",
              "      <td>...</td>\n",
              "    </tr>\n",
              "    <tr>\n",
              "      <th>13473</th>\n",
              "      <td>panda</td>\n",
              "      <td>2020-01-09 14:25:25+05:30</td>\n",
              "      <td>0 days 00:31:06</td>\n",
              "      <td>NaN</td>\n",
              "      <td>The Haunting of Hill House: Season 1: Steven S...</td>\n",
              "      <td>NaN</td>\n",
              "      <td>Apple iPad 6th Gen 9.7 (Wi-Fi) iPad</td>\n",
              "      <td>00:42:03</td>\n",
              "      <td>00:42:03</td>\n",
              "      <td>IN (India)</td>\n",
              "    </tr>\n",
              "    <tr>\n",
              "      <th>13474</th>\n",
              "      <td>panda</td>\n",
              "      <td>2020-01-09 11:59:06+05:30</td>\n",
              "      <td>0 days 00:07:45</td>\n",
              "      <td>NaN</td>\n",
              "      <td>The Haunting of Hill House: Season 1: Steven S...</td>\n",
              "      <td>NaN</td>\n",
              "      <td>Apple iPad 6th Gen 9.7 (Wi-Fi) iPad</td>\n",
              "      <td>00:07:46</td>\n",
              "      <td>Not latest view</td>\n",
              "      <td>IN (India)</td>\n",
              "    </tr>\n",
              "    <tr>\n",
              "      <th>13475</th>\n",
              "      <td>panda</td>\n",
              "      <td>2020-01-08 13:55:44+05:30</td>\n",
              "      <td>0 days 00:00:43</td>\n",
              "      <td>NaN</td>\n",
              "      <td>The Haunting of Hill House: Season 1: Steven S...</td>\n",
              "      <td>NaN</td>\n",
              "      <td>Apple iPad 6th Gen 9.7 (Wi-Fi) iPad</td>\n",
              "      <td>00:00:00</td>\n",
              "      <td>Not latest view</td>\n",
              "      <td>IN (India)</td>\n",
              "    </tr>\n",
              "    <tr>\n",
              "      <th>13476</th>\n",
              "      <td>panda</td>\n",
              "      <td>2020-01-08 00:05:37+05:30</td>\n",
              "      <td>0 days 00:43:31</td>\n",
              "      <td>NaN</td>\n",
              "      <td>Dil Dhadakne Do</td>\n",
              "      <td>NaN</td>\n",
              "      <td>Apple iPad 6th Gen 9.7 (Wi-Fi) iPad</td>\n",
              "      <td>02:53:49</td>\n",
              "      <td>02:53:49</td>\n",
              "      <td>IN (India)</td>\n",
              "    </tr>\n",
              "    <tr>\n",
              "      <th>13477</th>\n",
              "      <td>panda</td>\n",
              "      <td>2020-01-07 20:41:16+05:30</td>\n",
              "      <td>0 days 01:52:20</td>\n",
              "      <td>NaN</td>\n",
              "      <td>Dil Dhadakne Do</td>\n",
              "      <td>NaN</td>\n",
              "      <td>Apple iPad 6th Gen 9.7 (Wi-Fi) iPad</td>\n",
              "      <td>02:05:14</td>\n",
              "      <td>Not latest view</td>\n",
              "      <td>IN (India)</td>\n",
              "    </tr>\n",
              "  </tbody>\n",
              "</table>\n",
              "<p>11406 rows × 10 columns</p>\n",
              "</div>\n",
              "      <button class=\"colab-df-convert\" onclick=\"convertToInteractive('df-da661c4e-dab3-4ff3-b625-4f0a1e29a6b3')\"\n",
              "              title=\"Convert this dataframe to an interactive table.\"\n",
              "              style=\"display:none;\">\n",
              "        \n",
              "  <svg xmlns=\"http://www.w3.org/2000/svg\" height=\"24px\"viewBox=\"0 0 24 24\"\n",
              "       width=\"24px\">\n",
              "    <path d=\"M0 0h24v24H0V0z\" fill=\"none\"/>\n",
              "    <path d=\"M18.56 5.44l.94 2.06.94-2.06 2.06-.94-2.06-.94-.94-2.06-.94 2.06-2.06.94zm-11 1L8.5 8.5l.94-2.06 2.06-.94-2.06-.94L8.5 2.5l-.94 2.06-2.06.94zm10 10l.94 2.06.94-2.06 2.06-.94-2.06-.94-.94-2.06-.94 2.06-2.06.94z\"/><path d=\"M17.41 7.96l-1.37-1.37c-.4-.4-.92-.59-1.43-.59-.52 0-1.04.2-1.43.59L10.3 9.45l-7.72 7.72c-.78.78-.78 2.05 0 2.83L4 21.41c.39.39.9.59 1.41.59.51 0 1.02-.2 1.41-.59l7.78-7.78 2.81-2.81c.8-.78.8-2.07 0-2.86zM5.41 20L4 18.59l7.72-7.72 1.47 1.35L5.41 20z\"/>\n",
              "  </svg>\n",
              "      </button>\n",
              "      \n",
              "  <style>\n",
              "    .colab-df-container {\n",
              "      display:flex;\n",
              "      flex-wrap:wrap;\n",
              "      gap: 12px;\n",
              "    }\n",
              "\n",
              "    .colab-df-convert {\n",
              "      background-color: #E8F0FE;\n",
              "      border: none;\n",
              "      border-radius: 50%;\n",
              "      cursor: pointer;\n",
              "      display: none;\n",
              "      fill: #1967D2;\n",
              "      height: 32px;\n",
              "      padding: 0 0 0 0;\n",
              "      width: 32px;\n",
              "    }\n",
              "\n",
              "    .colab-df-convert:hover {\n",
              "      background-color: #E2EBFA;\n",
              "      box-shadow: 0px 1px 2px rgba(60, 64, 67, 0.3), 0px 1px 3px 1px rgba(60, 64, 67, 0.15);\n",
              "      fill: #174EA6;\n",
              "    }\n",
              "\n",
              "    [theme=dark] .colab-df-convert {\n",
              "      background-color: #3B4455;\n",
              "      fill: #D2E3FC;\n",
              "    }\n",
              "\n",
              "    [theme=dark] .colab-df-convert:hover {\n",
              "      background-color: #434B5C;\n",
              "      box-shadow: 0px 1px 3px 1px rgba(0, 0, 0, 0.15);\n",
              "      filter: drop-shadow(0px 1px 2px rgba(0, 0, 0, 0.3));\n",
              "      fill: #FFFFFF;\n",
              "    }\n",
              "  </style>\n",
              "\n",
              "      <script>\n",
              "        const buttonEl =\n",
              "          document.querySelector('#df-da661c4e-dab3-4ff3-b625-4f0a1e29a6b3 button.colab-df-convert');\n",
              "        buttonEl.style.display =\n",
              "          google.colab.kernel.accessAllowed ? 'block' : 'none';\n",
              "\n",
              "        async function convertToInteractive(key) {\n",
              "          const element = document.querySelector('#df-da661c4e-dab3-4ff3-b625-4f0a1e29a6b3');\n",
              "          const dataTable =\n",
              "            await google.colab.kernel.invokeFunction('convertToInteractive',\n",
              "                                                     [key], {});\n",
              "          if (!dataTable) return;\n",
              "\n",
              "          const docLinkHtml = 'Like what you see? Visit the ' +\n",
              "            '<a target=\"_blank\" href=https://colab.research.google.com/notebooks/data_table.ipynb>data table notebook</a>'\n",
              "            + ' to learn more about interactive tables.';\n",
              "          element.innerHTML = '';\n",
              "          dataTable['output_type'] = 'display_data';\n",
              "          await google.colab.output.renderOutput(dataTable, element);\n",
              "          const docLink = document.createElement('div');\n",
              "          docLink.innerHTML = docLinkHtml;\n",
              "          element.appendChild(docLink);\n",
              "        }\n",
              "      </script>\n",
              "    </div>\n",
              "  </div>\n",
              "  "
            ]
          },
          "metadata": {},
          "execution_count": 83
        }
      ]
    },
    {
      "cell_type": "code",
      "source": [
        "df['Profile Name'].value_counts()"
      ],
      "metadata": {
        "colab": {
          "base_uri": "https://localhost:8080/"
        },
        "id": "CNc2z1iEa3oW",
        "outputId": "96d76238-8f3d-45f0-a95f-b08e287a34ba"
      },
      "execution_count": null,
      "outputs": [
        {
          "output_type": "execute_result",
          "data": {
            "text/plain": [
              "Subho    4143\n",
              "panda    3896\n",
              "Dolly    3609\n",
              "Dev      1827\n",
              "Kids        3\n",
              "Name: Profile Name, dtype: int64"
            ]
          },
          "metadata": {},
          "execution_count": 84
        }
      ]
    },
    {
      "cell_type": "code",
      "source": [],
      "metadata": {
        "id": "ld66B8vNa3se"
      },
      "execution_count": null,
      "outputs": []
    },
    {
      "cell_type": "code",
      "source": [
        "df['Device Type'].value_counts()"
      ],
      "metadata": {
        "colab": {
          "base_uri": "https://localhost:8080/"
        },
        "id": "Pzo2_qagbUdX",
        "outputId": "498976f1-bcfb-4448-ffd8-791f4575eaa6"
      },
      "execution_count": null,
      "outputs": [
        {
          "output_type": "execute_result",
          "data": {
            "text/plain": [
              "Android DefaultWidevineL3Phone Android Phone      3074\n",
              "Xiaomi dangal SmartTV                             2761\n",
              "DefaultWidevineAndroidPhone                       2698\n",
              "Apple iPad 6th Gen 9.7 (Wi-Fi) iPad               2344\n",
              "Android DefaultWidevineL3Tablet Android Tablet     988\n",
              "Chrome PC (Cadmium)                                850\n",
              "Hisense MSD6486 on FHD platform Smart TV           470\n",
              "Netflix Chrome MAC (Cadmium) HTML 5                 98\n",
              "Panasonic 2018 TANBA11 TV Smart TV                  66\n",
              "Mobile                                              51\n",
              "Netflix Windows App - Cadmium Windows Mobile        44\n",
              "Edge OSS - Windows (Cadmium)                        17\n",
              "Safari MAC (Cadmium)                                17\n",
              "Name: Device Type, dtype: int64"
            ]
          },
          "metadata": {},
          "execution_count": 85
        }
      ]
    },
    {
      "cell_type": "code",
      "source": [
        "df['Device Type'].value_counts().plot(kind='bar')\n",
        "plt.show()"
      ],
      "metadata": {
        "colab": {
          "base_uri": "https://localhost:8080/",
          "height": 500
        },
        "id": "dB93vje-bWFi",
        "outputId": "008fdfd5-a98a-46a8-855d-85ced83a7bd5"
      },
      "execution_count": null,
      "outputs": [
        {
          "output_type": "display_data",
          "data": {
            "text/plain": [
              "<Figure size 432x288 with 1 Axes>"
            ],
            "image/png": "[encoded data removed]"
          },
          "metadata": {
            "needs_background": "light"
          }
        }
      ]
    },
    {
      "cell_type": "code",
      "source": [
        "#df=df.loc[df['Profile Name'] == 'Subho']"
      ],
      "metadata": {
        "id": "zyAfLqeHbbWP"
      },
      "execution_count": null,
      "outputs": []
    },
    {
      "cell_type": "code",
      "source": [
        "df['Device Type'].value_counts()"
      ],
      "metadata": {
        "colab": {
          "base_uri": "https://localhost:8080/"
        },
        "id": "DZCRXcJAbhyO",
        "outputId": "2f77b2c5-514d-47a9-82e2-7c205af188b9"
      },
      "execution_count": null,
      "outputs": [
        {
          "output_type": "execute_result",
          "data": {
            "text/plain": [
              "Android DefaultWidevineL3Phone Android Phone      3074\n",
              "Xiaomi dangal SmartTV                             2761\n",
              "DefaultWidevineAndroidPhone                       2698\n",
              "Apple iPad 6th Gen 9.7 (Wi-Fi) iPad               2344\n",
              "Android DefaultWidevineL3Tablet Android Tablet     988\n",
              "Chrome PC (Cadmium)                                850\n",
              "Hisense MSD6486 on FHD platform Smart TV           470\n",
              "Netflix Chrome MAC (Cadmium) HTML 5                 98\n",
              "Panasonic 2018 TANBA11 TV Smart TV                  66\n",
              "Mobile                                              51\n",
              "Netflix Windows App - Cadmium Windows Mobile        44\n",
              "Edge OSS - Windows (Cadmium)                        17\n",
              "Safari MAC (Cadmium)                                17\n",
              "Name: Device Type, dtype: int64"
            ]
          },
          "metadata": {},
          "execution_count": 88
        }
      ]
    },
    {
      "cell_type": "code",
      "source": [
        "df['Device Type'].value_counts().plot(kind='bar')\n",
        "plt.show()"
      ],
      "metadata": {
        "colab": {
          "base_uri": "https://localhost:8080/",
          "height": 500
        },
        "id": "vN_vYKvjboCg",
        "outputId": "690fc215-e019-4087-bdca-66854f983813"
      },
      "execution_count": null,
      "outputs": [
        {
          "output_type": "display_data",
          "data": {
            "text/plain": [
              "<Figure size 432x288 with 1 Axes>"
            ],
            "image/png": "[encoded data removed]"
          },
          "metadata": {
            "needs_background": "light"
          }
        }
      ]
    },
    {
      "cell_type": "markdown",
      "source": [
        "\n",
        "What was the most popular/watched title?\n",
        "\n",
        "Was there any title watched by all Profiles?\n",
        "\n",
        "Can we recommend a title for one Profile based on the common watching history of other Profiles"
      ],
      "metadata": {
        "id": "-zOuobmsbzwN"
      }
    },
    {
      "cell_type": "code",
      "source": [
        "df['Device Type'].value_counts()"
      ],
      "metadata": {
        "colab": {
          "base_uri": "https://localhost:8080/"
        },
        "id": "HGuRqzlJohon",
        "outputId": "169d901c-2b20-4aed-f058-3934e9b6d83e"
      },
      "execution_count": null,
      "outputs": [
        {
          "output_type": "execute_result",
          "data": {
            "text/plain": [
              "Android DefaultWidevineL3Phone Android Phone      3074\n",
              "Xiaomi dangal SmartTV                             2761\n",
              "DefaultWidevineAndroidPhone                       2698\n",
              "Apple iPad 6th Gen 9.7 (Wi-Fi) iPad               2344\n",
              "Android DefaultWidevineL3Tablet Android Tablet     988\n",
              "Chrome PC (Cadmium)                                850\n",
              "Hisense MSD6486 on FHD platform Smart TV           470\n",
              "Netflix Chrome MAC (Cadmium) HTML 5                 98\n",
              "Panasonic 2018 TANBA11 TV Smart TV                  66\n",
              "Mobile                                              51\n",
              "Netflix Windows App - Cadmium Windows Mobile        44\n",
              "Edge OSS - Windows (Cadmium)                        17\n",
              "Safari MAC (Cadmium)                                17\n",
              "Name: Device Type, dtype: int64"
            ]
          },
          "metadata": {},
          "execution_count": 90
        }
      ]
    },
    {
      "cell_type": "code",
      "source": [
        "import numpy as np\n",
        "\n",
        "#Group into TV, Phone, Tablet, Games Console, Laptop, Other\n",
        "#MAKE SURE REGEX IS WORKING CORRECTLY! Find out what exact match is rather than 'contains'\n",
        "conditions = [\n",
        "    df['Device Type'].str.contains('TV|Stick|BD Recorder|Sky|Xbox|Playstation|Theater', case=False, regex=True),\n",
        "    df['Device Type'].str.contains('Phone|Mobile', case=False, regex=True),\n",
        "    df['Device Type'].str.contains('Tablet|ipad', case=False, regex=True),\n",
        "    df['Device Type'].str.contains('PC|OS|Edge|Mac|Chrome|Windows', case=False, regex=True)]\n",
        "\n",
        "choices = [\n",
        "    \"TV\",\n",
        "    \"Phone\",\n",
        "    \"Tablet\",\n",
        "    \"Computer\"]\n",
        "#Apply new device groups\n",
        "df['Device Type Group'] = np.select(conditions, choices, default=\"Other\")\n",
        "\n",
        "#Check they are assigned properly:\n",
        "pd.crosstab(df['Device Type'], df['Device Type Group'], margins=True, margins_name=\"Total\")"
      ],
      "metadata": {
        "colab": {
          "base_uri": "https://localhost:8080/",
          "height": 520
        },
        "id": "e1wBJQ5pm6pv",
        "outputId": "e47426e6-deb6-447e-a030-6289047341af"
      },
      "execution_count": null,
      "outputs": [
        {
          "output_type": "execute_result",
          "data": {
            "text/plain": [
              "Device Type Group                               Computer  Phone    TV  Tablet  \\\n",
              "Device Type                                                                     \n",
              "Android DefaultWidevineL3Phone Android Phone           0   3074     0       0   \n",
              "Android DefaultWidevineL3Tablet Android Tablet         0      0     0     988   \n",
              "Apple iPad 6th Gen 9.7 (Wi-Fi) iPad                    0      0     0    2344   \n",
              "Chrome PC (Cadmium)                                  850      0     0       0   \n",
              "DefaultWidevineAndroidPhone                            0   2698     0       0   \n",
              "Edge OSS - Windows (Cadmium)                          17      0     0       0   \n",
              "Hisense MSD6486 on FHD platform Smart TV               0      0   470       0   \n",
              "Mobile                                                 0     51     0       0   \n",
              "Netflix Chrome MAC (Cadmium) HTML 5                   98      0     0       0   \n",
              "Netflix Windows App - Cadmium Windows Mobile           0     44     0       0   \n",
              "Panasonic 2018 TANBA11 TV Smart TV                     0      0    66       0   \n",
              "Safari MAC (Cadmium)                                  17      0     0       0   \n",
              "Xiaomi dangal SmartTV                                  0      0  2761       0   \n",
              "Total                                                982   5867  3297    3332   \n",
              "\n",
              "Device Type Group                               Total  \n",
              "Device Type                                            \n",
              "Android DefaultWidevineL3Phone Android Phone     3074  \n",
              "Android DefaultWidevineL3Tablet Android Tablet    988  \n",
              "Apple iPad 6th Gen 9.7 (Wi-Fi) iPad              2344  \n",
              "Chrome PC (Cadmium)                               850  \n",
              "DefaultWidevineAndroidPhone                      2698  \n",
              "Edge OSS - Windows (Cadmium)                       17  \n",
              "Hisense MSD6486 on FHD platform Smart TV          470  \n",
              "Mobile                                             51  \n",
              "Netflix Chrome MAC (Cadmium) HTML 5                98  \n",
              "Netflix Windows App - Cadmium Windows Mobile       44  \n",
              "Panasonic 2018 TANBA11 TV Smart TV                 66  \n",
              "Safari MAC (Cadmium)                               17  \n",
              "Xiaomi dangal SmartTV                            2761  \n",
              "Total                                           13478  "
            ],
            "text/html": [
              "\n",
              "  <div id=\"df-c363438c-29aa-4485-8e29-6bd748621fb0\">\n",
              "    <div class=\"colab-df-container\">\n",
              "      <div>\n",
              "<style scoped>\n",
              "    .dataframe tbody tr th:only-of-type {\n",
              "        vertical-align: middle;\n",
              "    }\n",
              "\n",
              "    .dataframe tbody tr th {\n",
              "        vertical-align: top;\n",
              "    }\n",
              "\n",
              "    .dataframe thead th {\n",
              "        text-align: right;\n",
              "    }\n",
              "</style>\n",
              "<table border=\"1\" class=\"dataframe\">\n",
              "  <thead>\n",
              "    <tr style=\"text-align: right;\">\n",
              "      <th>Device Type Group</th>\n",
              "      <th>Computer</th>\n",
              "      <th>Phone</th>\n",
              "      <th>TV</th>\n",
              "      <th>Tablet</th>\n",
              "      <th>Total</th>\n",
              "    </tr>\n",
              "    <tr>\n",
              "      <th>Device Type</th>\n",
              "      <th></th>\n",
              "      <th></th>\n",
              "      <th></th>\n",
              "      <th></th>\n",
              "      <th></th>\n",
              "    </tr>\n",
              "  </thead>\n",
              "  <tbody>\n",
              "    <tr>\n",
              "      <th>Android DefaultWidevineL3Phone Android Phone</th>\n",
              "      <td>0</td>\n",
              "      <td>3074</td>\n",
              "      <td>0</td>\n",
              "      <td>0</td>\n",
              "      <td>3074</td>\n",
              "    </tr>\n",
              "    <tr>\n",
              "      <th>Android DefaultWidevineL3Tablet Android Tablet</th>\n",
              "      <td>0</td>\n",
              "      <td>0</td>\n",
              "      <td>0</td>\n",
              "      <td>988</td>\n",
              "      <td>988</td>\n",
              "    </tr>\n",
              "    <tr>\n",
              "      <th>Apple iPad 6th Gen 9.7 (Wi-Fi) iPad</th>\n",
              "      <td>0</td>\n",
              "      <td>0</td>\n",
              "      <td>0</td>\n",
              "      <td>2344</td>\n",
              "      <td>2344</td>\n",
              "    </tr>\n",
              "    <tr>\n",
              "      <th>Chrome PC (Cadmium)</th>\n",
              "      <td>850</td>\n",
              "      <td>0</td>\n",
              "      <td>0</td>\n",
              "      <td>0</td>\n",
              "      <td>850</td>\n",
              "    </tr>\n",
              "    <tr>\n",
              "      <th>DefaultWidevineAndroidPhone</th>\n",
              "      <td>0</td>\n",
              "      <td>2698</td>\n",
              "      <td>0</td>\n",
              "      <td>0</td>\n",
              "      <td>2698</td>\n",
              "    </tr>\n",
              "    <tr>\n",
              "      <th>Edge OSS - Windows (Cadmium)</th>\n",
              "      <td>17</td>\n",
              "      <td>0</td>\n",
              "      <td>0</td>\n",
              "      <td>0</td>\n",
              "      <td>17</td>\n",
              "    </tr>\n",
              "    <tr>\n",
              "      <th>Hisense MSD6486 on FHD platform Smart TV</th>\n",
              "      <td>0</td>\n",
              "      <td>0</td>\n",
              "      <td>470</td>\n",
              "      <td>0</td>\n",
              "      <td>470</td>\n",
              "    </tr>\n",
              "    <tr>\n",
              "      <th>Mobile</th>\n",
              "      <td>0</td>\n",
              "      <td>51</td>\n",
              "      <td>0</td>\n",
              "      <td>0</td>\n",
              "      <td>51</td>\n",
              "    </tr>\n",
              "    <tr>\n",
              "      <th>Netflix Chrome MAC (Cadmium) HTML 5</th>\n",
              "      <td>98</td>\n",
              "      <td>0</td>\n",
              "      <td>0</td>\n",
              "      <td>0</td>\n",
              "      <td>98</td>\n",
              "    </tr>\n",
              "    <tr>\n",
              "      <th>Netflix Windows App - Cadmium Windows Mobile</th>\n",
              "      <td>0</td>\n",
              "      <td>44</td>\n",
              "      <td>0</td>\n",
              "      <td>0</td>\n",
              "      <td>44</td>\n",
              "    </tr>\n",
              "    <tr>\n",
              "      <th>Panasonic 2018 TANBA11 TV Smart TV</th>\n",
              "      <td>0</td>\n",
              "      <td>0</td>\n",
              "      <td>66</td>\n",
              "      <td>0</td>\n",
              "      <td>66</td>\n",
              "    </tr>\n",
              "    <tr>\n",
              "      <th>Safari MAC (Cadmium)</th>\n",
              "      <td>17</td>\n",
              "      <td>0</td>\n",
              "      <td>0</td>\n",
              "      <td>0</td>\n",
              "      <td>17</td>\n",
              "    </tr>\n",
              "    <tr>\n",
              "      <th>Xiaomi dangal SmartTV</th>\n",
              "      <td>0</td>\n",
              "      <td>0</td>\n",
              "      <td>2761</td>\n",
              "      <td>0</td>\n",
              "      <td>2761</td>\n",
              "    </tr>\n",
              "    <tr>\n",
              "      <th>Total</th>\n",
              "      <td>982</td>\n",
              "      <td>5867</td>\n",
              "      <td>3297</td>\n",
              "      <td>3332</td>\n",
              "      <td>13478</td>\n",
              "    </tr>\n",
              "  </tbody>\n",
              "</table>\n",
              "</div>\n",
              "      <button class=\"colab-df-convert\" onclick=\"convertToInteractive('df-c363438c-29aa-4485-8e29-6bd748621fb0')\"\n",
              "              title=\"Convert this dataframe to an interactive table.\"\n",
              "              style=\"display:none;\">\n",
              "        \n",
              "  <svg xmlns=\"http://www.w3.org/2000/svg\" height=\"24px\"viewBox=\"0 0 24 24\"\n",
              "       width=\"24px\">\n",
              "    <path d=\"M0 0h24v24H0V0z\" fill=\"none\"/>\n",
              "    <path d=\"M18.56 5.44l.94 2.06.94-2.06 2.06-.94-2.06-.94-.94-2.06-.94 2.06-2.06.94zm-11 1L8.5 8.5l.94-2.06 2.06-.94-2.06-.94L8.5 2.5l-.94 2.06-2.06.94zm10 10l.94 2.06.94-2.06 2.06-.94-2.06-.94-.94-2.06-.94 2.06-2.06.94z\"/><path d=\"M17.41 7.96l-1.37-1.37c-.4-.4-.92-.59-1.43-.59-.52 0-1.04.2-1.43.59L10.3 9.45l-7.72 7.72c-.78.78-.78 2.05 0 2.83L4 21.41c.39.39.9.59 1.41.59.51 0 1.02-.2 1.41-.59l7.78-7.78 2.81-2.81c.8-.78.8-2.07 0-2.86zM5.41 20L4 18.59l7.72-7.72 1.47 1.35L5.41 20z\"/>\n",
              "  </svg>\n",
              "      </button>\n",
              "      \n",
              "  <style>\n",
              "    .colab-df-container {\n",
              "      display:flex;\n",
              "      flex-wrap:wrap;\n",
              "      gap: 12px;\n",
              "    }\n",
              "\n",
              "    .colab-df-convert {\n",
              "      background-color: #E8F0FE;\n",
              "      border: none;\n",
              "      border-radius: 50%;\n",
              "      cursor: pointer;\n",
              "      display: none;\n",
              "      fill: #1967D2;\n",
              "      height: 32px;\n",
              "      padding: 0 0 0 0;\n",
              "      width: 32px;\n",
              "    }\n",
              "\n",
              "    .colab-df-convert:hover {\n",
              "      background-color: #E2EBFA;\n",
              "      box-shadow: 0px 1px 2px rgba(60, 64, 67, 0.3), 0px 1px 3px 1px rgba(60, 64, 67, 0.15);\n",
              "      fill: #174EA6;\n",
              "    }\n",
              "\n",
              "    [theme=dark] .colab-df-convert {\n",
              "      background-color: #3B4455;\n",
              "      fill: #D2E3FC;\n",
              "    }\n",
              "\n",
              "    [theme=dark] .colab-df-convert:hover {\n",
              "      background-color: #434B5C;\n",
              "      box-shadow: 0px 1px 3px 1px rgba(0, 0, 0, 0.15);\n",
              "      filter: drop-shadow(0px 1px 2px rgba(0, 0, 0, 0.3));\n",
              "      fill: #FFFFFF;\n",
              "    }\n",
              "  </style>\n",
              "\n",
              "      <script>\n",
              "        const buttonEl =\n",
              "          document.querySelector('#df-c363438c-29aa-4485-8e29-6bd748621fb0 button.colab-df-convert');\n",
              "        buttonEl.style.display =\n",
              "          google.colab.kernel.accessAllowed ? 'block' : 'none';\n",
              "\n",
              "        async function convertToInteractive(key) {\n",
              "          const element = document.querySelector('#df-c363438c-29aa-4485-8e29-6bd748621fb0');\n",
              "          const dataTable =\n",
              "            await google.colab.kernel.invokeFunction('convertToInteractive',\n",
              "                                                     [key], {});\n",
              "          if (!dataTable) return;\n",
              "\n",
              "          const docLinkHtml = 'Like what you see? Visit the ' +\n",
              "            '<a target=\"_blank\" href=https://colab.research.google.com/notebooks/data_table.ipynb>data table notebook</a>'\n",
              "            + ' to learn more about interactive tables.';\n",
              "          element.innerHTML = '';\n",
              "          dataTable['output_type'] = 'display_data';\n",
              "          await google.colab.output.renderOutput(dataTable, element);\n",
              "          const docLink = document.createElement('div');\n",
              "          docLink.innerHTML = docLinkHtml;\n",
              "          element.appendChild(docLink);\n",
              "        }\n",
              "      </script>\n",
              "    </div>\n",
              "  </div>\n",
              "  "
            ]
          },
          "metadata": {},
          "execution_count": 91
        }
      ]
    }
  ]
}